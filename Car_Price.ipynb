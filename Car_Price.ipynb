{
  "nbformat": 4,
  "nbformat_minor": 0,
  "metadata": {
    "colab": {
      "provenance": []
    },
    "kernelspec": {
      "name": "python3",
      "display_name": "Python 3"
    },
    "language_info": {
      "name": "python"
    }
  },
  "cells": [
    {
      "cell_type": "code",
      "execution_count": 105,
      "metadata": {
        "id": "nV4Ctd2dhP0a"
      },
      "outputs": [],
      "source": [
        "import pandas as pd\n",
        "import numpy as np\n",
        "import matplotlib.pyplot as plt\n",
        "import seaborn as sns\n",
        "from sklearn.model_selection import train_test_split\n",
        "from sklearn.linear_model import LogisticRegression\n",
        "from sklearn.ensemble import RandomForestClassifier, GradientBoostingClassifier, AdaBoostClassifier\n",
        "from sklearn.neural_network import MLPClassifier\n",
        "from sklearn.metrics import accuracy_score, classification_report, confusion_matrix\n",
        "from sklearn.metrics import confusion_matrix, classification_report\n",
        "from sklearn.preprocessing import LabelEncoder\n",
        "from sklearn.metrics import classification_report, confusion_matrix, accuracy_score\n"
      ]
    },
    {
      "cell_type": "markdown",
      "source": [
        "# **Dataset Visualization**"
      ],
      "metadata": {
        "id": "W55V_PPahgE2"
      }
    },
    {
      "cell_type": "code",
      "source": [
        "from google.colab import drive\n",
        "drive.mount('/content/drive')"
      ],
      "metadata": {
        "colab": {
          "base_uri": "https://localhost:8080/"
        },
        "id": "linGuhLnhllA",
        "outputId": "dfdbb604-be2d-4b50-ea4d-0c3b51c2d919"
      },
      "execution_count": 106,
      "outputs": [
        {
          "output_type": "stream",
          "name": "stdout",
          "text": [
            "Mounted at /content/drive\n"
          ]
        }
      ]
    },
    {
      "cell_type": "code",
      "source": [
        "# Load your dataset\n",
        "file_path = '/content/drive/MyDrive/Defense help/Rifat/used car data.csv'\n",
        "car = pd.read_csv(file_path)"
      ],
      "metadata": {
        "id": "zrvFUz9oONMi"
      },
      "execution_count": 107,
      "outputs": []
    },
    {
      "cell_type": "code",
      "source": [
        "# Print first 5 rows and columns of the dataset\n",
        "print(\"First 5 rows and columns of the dataset:\")\n",
        "car.head()\n"
      ],
      "metadata": {
        "colab": {
          "base_uri": "https://localhost:8080/",
          "height": 223
        },
        "id": "q59L9Zouiaqq",
        "outputId": "9aac2af1-8456-4d74-c15b-e4889a215709"
      },
      "execution_count": 108,
      "outputs": [
        {
          "output_type": "stream",
          "name": "stdout",
          "text": [
            "First 5 rows and columns of the dataset:\n"
          ]
        },
        {
          "output_type": "execute_result",
          "data": {
            "text/plain": [
              "         Car_Name  Year  Selling_Price  Present_Price  Driven_kms Fuel_Type  \\\n",
              "0  Toyota Harrier  2005           22.5             60       70000    Octane   \n",
              "1     Honda Vezel  2014           19.2             45       57000    Hybrid   \n",
              "2     Toyota Aqua  2014           12.0             25       45000    Octane   \n",
              "3   Toyota Allion  2007           15.2             25        7879    Octane   \n",
              "4     Toyota Aqua  2014           14.3             30       55000    Octane   \n",
              "\n",
              "  Selling_type Transmission  Owner  \n",
              "0   Individual    Automatic      1  \n",
              "1   Individual    Automatic      1  \n",
              "2   Individual    Automatic      1  \n",
              "3   Individual    Automatic      1  \n",
              "4   Individual    Automatic      1  "
            ],
            "text/html": [
              "\n",
              "  <div id=\"df-5d1116a7-d460-4d43-896d-e4d6cd266574\" class=\"colab-df-container\">\n",
              "    <div>\n",
              "<style scoped>\n",
              "    .dataframe tbody tr th:only-of-type {\n",
              "        vertical-align: middle;\n",
              "    }\n",
              "\n",
              "    .dataframe tbody tr th {\n",
              "        vertical-align: top;\n",
              "    }\n",
              "\n",
              "    .dataframe thead th {\n",
              "        text-align: right;\n",
              "    }\n",
              "</style>\n",
              "<table border=\"1\" class=\"dataframe\">\n",
              "  <thead>\n",
              "    <tr style=\"text-align: right;\">\n",
              "      <th></th>\n",
              "      <th>Car_Name</th>\n",
              "      <th>Year</th>\n",
              "      <th>Selling_Price</th>\n",
              "      <th>Present_Price</th>\n",
              "      <th>Driven_kms</th>\n",
              "      <th>Fuel_Type</th>\n",
              "      <th>Selling_type</th>\n",
              "      <th>Transmission</th>\n",
              "      <th>Owner</th>\n",
              "    </tr>\n",
              "  </thead>\n",
              "  <tbody>\n",
              "    <tr>\n",
              "      <th>0</th>\n",
              "      <td>Toyota Harrier</td>\n",
              "      <td>2005</td>\n",
              "      <td>22.5</td>\n",
              "      <td>60</td>\n",
              "      <td>70000</td>\n",
              "      <td>Octane</td>\n",
              "      <td>Individual</td>\n",
              "      <td>Automatic</td>\n",
              "      <td>1</td>\n",
              "    </tr>\n",
              "    <tr>\n",
              "      <th>1</th>\n",
              "      <td>Honda Vezel</td>\n",
              "      <td>2014</td>\n",
              "      <td>19.2</td>\n",
              "      <td>45</td>\n",
              "      <td>57000</td>\n",
              "      <td>Hybrid</td>\n",
              "      <td>Individual</td>\n",
              "      <td>Automatic</td>\n",
              "      <td>1</td>\n",
              "    </tr>\n",
              "    <tr>\n",
              "      <th>2</th>\n",
              "      <td>Toyota Aqua</td>\n",
              "      <td>2014</td>\n",
              "      <td>12.0</td>\n",
              "      <td>25</td>\n",
              "      <td>45000</td>\n",
              "      <td>Octane</td>\n",
              "      <td>Individual</td>\n",
              "      <td>Automatic</td>\n",
              "      <td>1</td>\n",
              "    </tr>\n",
              "    <tr>\n",
              "      <th>3</th>\n",
              "      <td>Toyota Allion</td>\n",
              "      <td>2007</td>\n",
              "      <td>15.2</td>\n",
              "      <td>25</td>\n",
              "      <td>7879</td>\n",
              "      <td>Octane</td>\n",
              "      <td>Individual</td>\n",
              "      <td>Automatic</td>\n",
              "      <td>1</td>\n",
              "    </tr>\n",
              "    <tr>\n",
              "      <th>4</th>\n",
              "      <td>Toyota Aqua</td>\n",
              "      <td>2014</td>\n",
              "      <td>14.3</td>\n",
              "      <td>30</td>\n",
              "      <td>55000</td>\n",
              "      <td>Octane</td>\n",
              "      <td>Individual</td>\n",
              "      <td>Automatic</td>\n",
              "      <td>1</td>\n",
              "    </tr>\n",
              "  </tbody>\n",
              "</table>\n",
              "</div>\n",
              "    <div class=\"colab-df-buttons\">\n",
              "\n",
              "  <div class=\"colab-df-container\">\n",
              "    <button class=\"colab-df-convert\" onclick=\"convertToInteractive('df-5d1116a7-d460-4d43-896d-e4d6cd266574')\"\n",
              "            title=\"Convert this dataframe to an interactive table.\"\n",
              "            style=\"display:none;\">\n",
              "\n",
              "  <svg xmlns=\"http://www.w3.org/2000/svg\" height=\"24px\" viewBox=\"0 -960 960 960\">\n",
              "    <path d=\"M120-120v-720h720v720H120Zm60-500h600v-160H180v160Zm220 220h160v-160H400v160Zm0 220h160v-160H400v160ZM180-400h160v-160H180v160Zm440 0h160v-160H620v160ZM180-180h160v-160H180v160Zm440 0h160v-160H620v160Z\"/>\n",
              "  </svg>\n",
              "    </button>\n",
              "\n",
              "  <style>\n",
              "    .colab-df-container {\n",
              "      display:flex;\n",
              "      gap: 12px;\n",
              "    }\n",
              "\n",
              "    .colab-df-convert {\n",
              "      background-color: #E8F0FE;\n",
              "      border: none;\n",
              "      border-radius: 50%;\n",
              "      cursor: pointer;\n",
              "      display: none;\n",
              "      fill: #1967D2;\n",
              "      height: 32px;\n",
              "      padding: 0 0 0 0;\n",
              "      width: 32px;\n",
              "    }\n",
              "\n",
              "    .colab-df-convert:hover {\n",
              "      background-color: #E2EBFA;\n",
              "      box-shadow: 0px 1px 2px rgba(60, 64, 67, 0.3), 0px 1px 3px 1px rgba(60, 64, 67, 0.15);\n",
              "      fill: #174EA6;\n",
              "    }\n",
              "\n",
              "    .colab-df-buttons div {\n",
              "      margin-bottom: 4px;\n",
              "    }\n",
              "\n",
              "    [theme=dark] .colab-df-convert {\n",
              "      background-color: #3B4455;\n",
              "      fill: #D2E3FC;\n",
              "    }\n",
              "\n",
              "    [theme=dark] .colab-df-convert:hover {\n",
              "      background-color: #434B5C;\n",
              "      box-shadow: 0px 1px 3px 1px rgba(0, 0, 0, 0.15);\n",
              "      filter: drop-shadow(0px 1px 2px rgba(0, 0, 0, 0.3));\n",
              "      fill: #FFFFFF;\n",
              "    }\n",
              "  </style>\n",
              "\n",
              "    <script>\n",
              "      const buttonEl =\n",
              "        document.querySelector('#df-5d1116a7-d460-4d43-896d-e4d6cd266574 button.colab-df-convert');\n",
              "      buttonEl.style.display =\n",
              "        google.colab.kernel.accessAllowed ? 'block' : 'none';\n",
              "\n",
              "      async function convertToInteractive(key) {\n",
              "        const element = document.querySelector('#df-5d1116a7-d460-4d43-896d-e4d6cd266574');\n",
              "        const dataTable =\n",
              "          await google.colab.kernel.invokeFunction('convertToInteractive',\n",
              "                                                    [key], {});\n",
              "        if (!dataTable) return;\n",
              "\n",
              "        const docLinkHtml = 'Like what you see? Visit the ' +\n",
              "          '<a target=\"_blank\" href=https://colab.research.google.com/notebooks/data_table.ipynb>data table notebook</a>'\n",
              "          + ' to learn more about interactive tables.';\n",
              "        element.innerHTML = '';\n",
              "        dataTable['output_type'] = 'display_data';\n",
              "        await google.colab.output.renderOutput(dataTable, element);\n",
              "        const docLink = document.createElement('div');\n",
              "        docLink.innerHTML = docLinkHtml;\n",
              "        element.appendChild(docLink);\n",
              "      }\n",
              "    </script>\n",
              "  </div>\n",
              "\n",
              "\n",
              "<div id=\"df-106b8816-03fb-4d1d-be08-e70153ca322e\">\n",
              "  <button class=\"colab-df-quickchart\" onclick=\"quickchart('df-106b8816-03fb-4d1d-be08-e70153ca322e')\"\n",
              "            title=\"Suggest charts\"\n",
              "            style=\"display:none;\">\n",
              "\n",
              "<svg xmlns=\"http://www.w3.org/2000/svg\" height=\"24px\"viewBox=\"0 0 24 24\"\n",
              "     width=\"24px\">\n",
              "    <g>\n",
              "        <path d=\"M19 3H5c-1.1 0-2 .9-2 2v14c0 1.1.9 2 2 2h14c1.1 0 2-.9 2-2V5c0-1.1-.9-2-2-2zM9 17H7v-7h2v7zm4 0h-2V7h2v10zm4 0h-2v-4h2v4z\"/>\n",
              "    </g>\n",
              "</svg>\n",
              "  </button>\n",
              "\n",
              "<style>\n",
              "  .colab-df-quickchart {\n",
              "      --bg-color: #E8F0FE;\n",
              "      --fill-color: #1967D2;\n",
              "      --hover-bg-color: #E2EBFA;\n",
              "      --hover-fill-color: #174EA6;\n",
              "      --disabled-fill-color: #AAA;\n",
              "      --disabled-bg-color: #DDD;\n",
              "  }\n",
              "\n",
              "  [theme=dark] .colab-df-quickchart {\n",
              "      --bg-color: #3B4455;\n",
              "      --fill-color: #D2E3FC;\n",
              "      --hover-bg-color: #434B5C;\n",
              "      --hover-fill-color: #FFFFFF;\n",
              "      --disabled-bg-color: #3B4455;\n",
              "      --disabled-fill-color: #666;\n",
              "  }\n",
              "\n",
              "  .colab-df-quickchart {\n",
              "    background-color: var(--bg-color);\n",
              "    border: none;\n",
              "    border-radius: 50%;\n",
              "    cursor: pointer;\n",
              "    display: none;\n",
              "    fill: var(--fill-color);\n",
              "    height: 32px;\n",
              "    padding: 0;\n",
              "    width: 32px;\n",
              "  }\n",
              "\n",
              "  .colab-df-quickchart:hover {\n",
              "    background-color: var(--hover-bg-color);\n",
              "    box-shadow: 0 1px 2px rgba(60, 64, 67, 0.3), 0 1px 3px 1px rgba(60, 64, 67, 0.15);\n",
              "    fill: var(--button-hover-fill-color);\n",
              "  }\n",
              "\n",
              "  .colab-df-quickchart-complete:disabled,\n",
              "  .colab-df-quickchart-complete:disabled:hover {\n",
              "    background-color: var(--disabled-bg-color);\n",
              "    fill: var(--disabled-fill-color);\n",
              "    box-shadow: none;\n",
              "  }\n",
              "\n",
              "  .colab-df-spinner {\n",
              "    border: 2px solid var(--fill-color);\n",
              "    border-color: transparent;\n",
              "    border-bottom-color: var(--fill-color);\n",
              "    animation:\n",
              "      spin 1s steps(1) infinite;\n",
              "  }\n",
              "\n",
              "  @keyframes spin {\n",
              "    0% {\n",
              "      border-color: transparent;\n",
              "      border-bottom-color: var(--fill-color);\n",
              "      border-left-color: var(--fill-color);\n",
              "    }\n",
              "    20% {\n",
              "      border-color: transparent;\n",
              "      border-left-color: var(--fill-color);\n",
              "      border-top-color: var(--fill-color);\n",
              "    }\n",
              "    30% {\n",
              "      border-color: transparent;\n",
              "      border-left-color: var(--fill-color);\n",
              "      border-top-color: var(--fill-color);\n",
              "      border-right-color: var(--fill-color);\n",
              "    }\n",
              "    40% {\n",
              "      border-color: transparent;\n",
              "      border-right-color: var(--fill-color);\n",
              "      border-top-color: var(--fill-color);\n",
              "    }\n",
              "    60% {\n",
              "      border-color: transparent;\n",
              "      border-right-color: var(--fill-color);\n",
              "    }\n",
              "    80% {\n",
              "      border-color: transparent;\n",
              "      border-right-color: var(--fill-color);\n",
              "      border-bottom-color: var(--fill-color);\n",
              "    }\n",
              "    90% {\n",
              "      border-color: transparent;\n",
              "      border-bottom-color: var(--fill-color);\n",
              "    }\n",
              "  }\n",
              "</style>\n",
              "\n",
              "  <script>\n",
              "    async function quickchart(key) {\n",
              "      const quickchartButtonEl =\n",
              "        document.querySelector('#' + key + ' button');\n",
              "      quickchartButtonEl.disabled = true;  // To prevent multiple clicks.\n",
              "      quickchartButtonEl.classList.add('colab-df-spinner');\n",
              "      try {\n",
              "        const charts = await google.colab.kernel.invokeFunction(\n",
              "            'suggestCharts', [key], {});\n",
              "      } catch (error) {\n",
              "        console.error('Error during call to suggestCharts:', error);\n",
              "      }\n",
              "      quickchartButtonEl.classList.remove('colab-df-spinner');\n",
              "      quickchartButtonEl.classList.add('colab-df-quickchart-complete');\n",
              "    }\n",
              "    (() => {\n",
              "      let quickchartButtonEl =\n",
              "        document.querySelector('#df-106b8816-03fb-4d1d-be08-e70153ca322e button');\n",
              "      quickchartButtonEl.style.display =\n",
              "        google.colab.kernel.accessAllowed ? 'block' : 'none';\n",
              "    })();\n",
              "  </script>\n",
              "</div>\n",
              "    </div>\n",
              "  </div>\n"
            ]
          },
          "metadata": {},
          "execution_count": 108
        }
      ]
    },
    {
      "cell_type": "code",
      "source": [
        "# Print number of attributes and rows for the dataset\n",
        "num_attributes = len(car.columns)\n",
        "num_rows = len(car)\n",
        "print(\"\\nNumber of attributes:\", num_attributes)\n",
        "print(\"Number of rows:\", num_rows)\n"
      ],
      "metadata": {
        "colab": {
          "base_uri": "https://localhost:8080/"
        },
        "id": "26WTw8m8ilzM",
        "outputId": "8a90145a-d09f-4b4e-d91e-39c63b65ec23"
      },
      "execution_count": 109,
      "outputs": [
        {
          "output_type": "stream",
          "name": "stdout",
          "text": [
            "\n",
            "Number of attributes: 9\n",
            "Number of rows: 811\n"
          ]
        }
      ]
    },
    {
      "cell_type": "code",
      "source": [
        "# Print non-null value counts and data types for each attribute in the dataset\n",
        "print(\"\\nNon-null value counts and data types for each attribute:\")\n",
        "print(car.info())\n"
      ],
      "metadata": {
        "colab": {
          "base_uri": "https://localhost:8080/"
        },
        "id": "gm7-h-K4iweF",
        "outputId": "92bcad4c-d2e2-4747-e5df-0f3013d0a569"
      },
      "execution_count": 110,
      "outputs": [
        {
          "output_type": "stream",
          "name": "stdout",
          "text": [
            "\n",
            "Non-null value counts and data types for each attribute:\n",
            "<class 'pandas.core.frame.DataFrame'>\n",
            "RangeIndex: 811 entries, 0 to 810\n",
            "Data columns (total 9 columns):\n",
            " #   Column         Non-Null Count  Dtype  \n",
            "---  ------         --------------  -----  \n",
            " 0   Car_Name       811 non-null    object \n",
            " 1   Year           811 non-null    int64  \n",
            " 2   Selling_Price  811 non-null    float64\n",
            " 3   Present_Price  811 non-null    int64  \n",
            " 4   Driven_kms     811 non-null    int64  \n",
            " 5   Fuel_Type      811 non-null    object \n",
            " 6   Selling_type   811 non-null    object \n",
            " 7   Transmission   811 non-null    object \n",
            " 8   Owner          811 non-null    int64  \n",
            "dtypes: float64(1), int64(4), object(4)\n",
            "memory usage: 57.1+ KB\n",
            "None\n"
          ]
        }
      ]
    },
    {
      "cell_type": "code",
      "source": [
        "# Print the number of non-null values\n",
        "print(\"\\nNumber of non-null values Tottal In cell:\")\n",
        "print(car.count().sum())"
      ],
      "metadata": {
        "colab": {
          "base_uri": "https://localhost:8080/"
        },
        "id": "9YzFePufi47M",
        "outputId": "2fa3c073-f62b-446d-8791-8a556281deb3"
      },
      "execution_count": 111,
      "outputs": [
        {
          "output_type": "stream",
          "name": "stdout",
          "text": [
            "\n",
            "Number of non-null values Tottal In cell:\n",
            "7299\n"
          ]
        }
      ]
    },
    {
      "cell_type": "code",
      "source": [
        "# Print the number of data in the 'Year' attribute\n",
        "print(\"\\nNumber of data in the 'Year' attribute:\", len(car['Year']))\n",
        "\n",
        "# Plot the count of each Year group\n",
        "plt.figure(figsize=(18, 6))\n",
        "sns.countplot(x='Year', data=car)\n",
        "plt.title('Count of 1993-2023')\n",
        "plt.show()\n"
      ],
      "metadata": {
        "colab": {
          "base_uri": "https://localhost:8080/",
          "height": 581
        },
        "id": "lTFaoSRUja5T",
        "outputId": "be806b4d-ba9a-471e-d510-c1e5bf827f00"
      },
      "execution_count": 112,
      "outputs": [
        {
          "output_type": "stream",
          "name": "stdout",
          "text": [
            "\n",
            "Number of data in the 'Year' attribute: 811\n"
          ]
        },
        {
          "output_type": "display_data",
          "data": {
            "text/plain": [
              "<Figure size 1800x600 with 1 Axes>"
            ],
            "image/png": "[encoded data removed]"
          },
          "metadata": {}
        }
      ]
    },
    {
      "cell_type": "code",
      "source": [
        "# Print the minimum and count of each Year group\n",
        "Year_group_counts = car['Year'].value_counts().reset_index()\n",
        "Year_group_counts.columns = ['Year ', 'Count']\n",
        "print(\"\\nCount of each Year group:\")\n",
        "print(Year_group_counts)"
      ],
      "metadata": {
        "colab": {
          "base_uri": "https://localhost:8080/"
        },
        "id": "UZdztsKKkUe2",
        "outputId": "b51d207d-01f0-4ad4-ea46-9e4f35317e74"
      },
      "execution_count": 113,
      "outputs": [
        {
          "output_type": "stream",
          "name": "stdout",
          "text": [
            "\n",
            "Count of each Year group:\n",
            "    Year   Count\n",
            "0    2017     81\n",
            "1    2018     60\n",
            "2    2011     54\n",
            "3    2006     53\n",
            "4    2012     52\n",
            "5    2004     51\n",
            "6    2015     45\n",
            "7    2014     44\n",
            "8    2005     42\n",
            "9    2013     42\n",
            "10   2003     36\n",
            "11   2010     35\n",
            "12   2016     31\n",
            "13   2021     26\n",
            "14   2007     25\n",
            "15   2019     23\n",
            "16   2002     21\n",
            "17   2009     15\n",
            "18   2008     14\n",
            "19   2000     10\n",
            "20   2001     10\n",
            "21   2022     10\n",
            "22   2020      9\n",
            "23   1996      5\n",
            "24   1993      4\n",
            "25   1998      4\n",
            "26   1990      2\n",
            "27   2023      1\n",
            "28   1500      1\n",
            "29   1995      1\n",
            "30   1997      1\n",
            "31   1988      1\n",
            "32   1999      1\n",
            "33   1991      1\n"
          ]
        }
      ]
    },
    {
      "cell_type": "code",
      "source": [
        "# Print the average, mean, median, and max for the 'What is Year' attribute\n",
        "print(\"\\nAverage year:\", car['Year'].mean())\n",
        "print(\"Mean year:\", car['Year'].mode().iloc[0])  # using mode for mean since the data is categorical\n",
        "print(\"Median year:\", car['Year'].median())\n",
        "print(\"Max year:\", car['Year'].max())\n",
        "print(\"Min year:\", car['Year'].min())\n",
        "print(\"Total year:\", car['Year'].count())\n",
        "# Calculate percentage distribution\n",
        "year_percentage = car['Year'].value_counts(normalize=True) * 100\n",
        "print(\"\\nPercentage Distribution of Each year:\")\n",
        "print(year_percentage)\n"
      ],
      "metadata": {
        "colab": {
          "base_uri": "https://localhost:8080/"
        },
        "id": "5aZJwE-9kxKJ",
        "outputId": "e3dfb770-66c4-48b4-a902-27f46018869a"
      },
      "execution_count": 114,
      "outputs": [
        {
          "output_type": "stream",
          "name": "stdout",
          "text": [
            "\n",
            "Average year: 2010.446362515413\n",
            "Mean year: 2017\n",
            "Median year: 2012.0\n",
            "Max year: 2023\n",
            "Min year: 1500\n",
            "Total year: 811\n",
            "\n",
            "Percentage Distribution of Each year:\n",
            "2017    9.987670\n",
            "2018    7.398274\n",
            "2011    6.658446\n",
            "2006    6.535142\n",
            "2012    6.411837\n",
            "2004    6.288533\n",
            "2015    5.548705\n",
            "2014    5.425401\n",
            "2005    5.178792\n",
            "2013    5.178792\n",
            "2003    4.438964\n",
            "2010    4.315660\n",
            "2016    3.822441\n",
            "2021    3.205919\n",
            "2007    3.082614\n",
            "2019    2.836005\n",
            "2002    2.589396\n",
            "2009    1.849568\n",
            "2008    1.726264\n",
            "2000    1.233046\n",
            "2001    1.233046\n",
            "2022    1.233046\n",
            "2020    1.109741\n",
            "1996    0.616523\n",
            "1993    0.493218\n",
            "1998    0.493218\n",
            "1990    0.246609\n",
            "2023    0.123305\n",
            "1500    0.123305\n",
            "1995    0.123305\n",
            "1997    0.123305\n",
            "1988    0.123305\n",
            "1999    0.123305\n",
            "1991    0.123305\n",
            "Name: Year, dtype: float64\n"
          ]
        }
      ]
    },
    {
      "cell_type": "code",
      "source": [
        "# Print the number of data in the 'Selling_Price' attribute\n",
        "print(\"\\nNumber of data in the 'Selling_Price' attribute:\", len(car['Selling_Price']))\n",
        "\n",
        "# Plot the count of each Student\n",
        "plt.figure(figsize=(17, 6))\n",
        "sns.countplot(x='Selling_Price', data=car)\n",
        "plt.title('Count of Each Selling_Price')\n",
        "plt.xlabel('Selling_Price')\n",
        "plt.ylabel('Count')\n",
        "plt.show()"
      ],
      "metadata": {
        "colab": {
          "base_uri": "https://localhost:8080/",
          "height": 599
        },
        "id": "JKFVAzd1mRtc",
        "outputId": "cefe3bb6-5e8a-424e-8653-5617ff4c6fde"
      },
      "execution_count": 115,
      "outputs": [
        {
          "output_type": "stream",
          "name": "stdout",
          "text": [
            "\n",
            "Number of data in the 'Selling_Price' attribute: 811\n"
          ]
        },
        {
          "output_type": "display_data",
          "data": {
            "text/plain": [
              "<Figure size 1700x600 with 1 Axes>"
            ],
            "image/png": "[encoded data removed]"
          },
          "metadata": {}
        }
      ]
    },
    {
      "cell_type": "code",
      "source": [
        "# Print the counts of each Selling_Price\n",
        "Selling_Price_counts = car['Selling_Price'].value_counts().reset_index()\n",
        "Selling_Price_counts.columns = ['Selling_Price Catagory', 'Count']\n",
        "print(\"\\nCount of each Selling_Price Catagory:\")\n",
        "print(Selling_Price_counts)\n",
        "\n",
        "# Calculate percentage distribution\n",
        "Selling_Price_percentage = car['Selling_Price'].value_counts(normalize=True) * 100\n",
        "print(\"\\nPercentage Distribution of Selling_Price Catagory:\")\n",
        "print(Selling_Price_percentage)"
      ],
      "metadata": {
        "colab": {
          "base_uri": "https://localhost:8080/"
        },
        "id": "2XZsBA-MnboM",
        "outputId": "22f3735c-f55e-4f1e-f281-8f79cf78ac24"
      },
      "execution_count": 116,
      "outputs": [
        {
          "output_type": "stream",
          "name": "stdout",
          "text": [
            "\n",
            "Count of each Selling_Price Catagory:\n",
            "     Selling_Price Catagory  Count\n",
            "0                     13.50     15\n",
            "1                     20.50     14\n",
            "2                     12.50     13\n",
            "3                     12.00     13\n",
            "4                     16.80     13\n",
            "..                      ...    ...\n",
            "290                   20.70      1\n",
            "291                   23.80      1\n",
            "292                   12.10      1\n",
            "293                   11.40      1\n",
            "294                   18.35      1\n",
            "\n",
            "[295 rows x 2 columns]\n",
            "\n",
            "Percentage Distribution of Selling_Price Catagory:\n",
            "13.50    1.849568\n",
            "20.50    1.726264\n",
            "12.50    1.602959\n",
            "12.00    1.602959\n",
            "16.80    1.602959\n",
            "           ...   \n",
            "20.70    0.123305\n",
            "23.80    0.123305\n",
            "12.10    0.123305\n",
            "11.40    0.123305\n",
            "18.35    0.123305\n",
            "Name: Selling_Price, Length: 295, dtype: float64\n"
          ]
        }
      ]
    },
    {
      "cell_type": "code",
      "source": [
        "# Print the number of data in the 'Present_Price' attribute\n",
        "print(\"\\nNumber of data in the 'Present_Price' attribute:\", len(car['Present_Price']))\n",
        "\n",
        "# Plot the count Present_Price\n",
        "plt.figure(figsize=(17, 6))\n",
        "sns.countplot(x='Present_Price', data=car)\n",
        "plt.title('Count of Present_Price')\n",
        "plt.xlabel('Present_Price')\n",
        "plt.ylabel('Count')\n",
        "plt.show()"
      ],
      "metadata": {
        "colab": {
          "base_uri": "https://localhost:8080/",
          "height": 599
        },
        "id": "M--YhQ-MpxWt",
        "outputId": "0c105702-c67e-4db1-9505-a4a0b9bc4726"
      },
      "execution_count": 117,
      "outputs": [
        {
          "output_type": "stream",
          "name": "stdout",
          "text": [
            "\n",
            "Number of data in the 'Present_Price' attribute: 811\n"
          ]
        },
        {
          "output_type": "display_data",
          "data": {
            "text/plain": [
              "<Figure size 1700x600 with 1 Axes>"
            ],
            "image/png": "[encoded data removed]"
          },
          "metadata": {}
        }
      ]
    },
    {
      "cell_type": "code",
      "source": [
        "# Print the counts of each Present_Price\n",
        "Present_Price_counts = car['Present_Price'].value_counts().reset_index()\n",
        "Present_Price_counts.columns = ['Present_Price', 'Count']\n",
        "print(\"\\nCount of Present_Price:\")\n",
        "print(Present_Price_counts)\n",
        "# Calculate percentage distribution\n",
        "Present_Price_percentage = car['Present_Price'].value_counts(normalize=True) * 100\n",
        "print(\"\\nPercentage Distribution of Present_Price:\")\n",
        "print(Present_Price_percentage)"
      ],
      "metadata": {
        "colab": {
          "base_uri": "https://localhost:8080/"
        },
        "id": "CuBeSJ9bqUWn",
        "outputId": "78dcf69d-7262-4a17-f1bb-a57b411448f8"
      },
      "execution_count": 118,
      "outputs": [
        {
          "output_type": "stream",
          "name": "stdout",
          "text": [
            "\n",
            "Count of Present_Price:\n",
            "    Present_Price  Count\n",
            "0              25    120\n",
            "1              20     88\n",
            "2              30     78\n",
            "3              15     75\n",
            "4              35     62\n",
            "5              40     47\n",
            "6              18     46\n",
            "7              45     45\n",
            "8              12     37\n",
            "9              50     29\n",
            "10              8     18\n",
            "11             22     18\n",
            "12             55     17\n",
            "13             60     16\n",
            "14             80     14\n",
            "15             65     13\n",
            "16             70     13\n",
            "17            250     10\n",
            "18            400      8\n",
            "19             28      6\n",
            "20             10      6\n",
            "21             90      4\n",
            "22             38      4\n",
            "23            150      4\n",
            "24             42      4\n",
            "25             16      4\n",
            "26            270      3\n",
            "27            450      3\n",
            "28              6      2\n",
            "29             48      2\n",
            "30             32      2\n",
            "31            200      2\n",
            "32            300      2\n",
            "33            500      2\n",
            "34              5      2\n",
            "35           1200      1\n",
            "36            350      1\n",
            "37             57      1\n",
            "38              2      1\n",
            "39             88      1\n",
            "\n",
            "Percentage Distribution of Present_Price:\n",
            "25      14.796547\n",
            "20      10.850801\n",
            "30       9.617756\n",
            "15       9.247842\n",
            "35       7.644883\n",
            "40       5.795314\n",
            "18       5.672010\n",
            "45       5.548705\n",
            "12       4.562269\n",
            "50       3.575832\n",
            "8        2.219482\n",
            "22       2.219482\n",
            "55       2.096178\n",
            "60       1.972873\n",
            "80       1.726264\n",
            "65       1.602959\n",
            "70       1.602959\n",
            "250      1.233046\n",
            "400      0.986436\n",
            "28       0.739827\n",
            "10       0.739827\n",
            "90       0.493218\n",
            "38       0.493218\n",
            "150      0.493218\n",
            "42       0.493218\n",
            "16       0.493218\n",
            "270      0.369914\n",
            "450      0.369914\n",
            "6        0.246609\n",
            "48       0.246609\n",
            "32       0.246609\n",
            "200      0.246609\n",
            "300      0.246609\n",
            "500      0.246609\n",
            "5        0.246609\n",
            "1200     0.123305\n",
            "350      0.123305\n",
            "57       0.123305\n",
            "2        0.123305\n",
            "88       0.123305\n",
            "Name: Present_Price, dtype: float64\n"
          ]
        }
      ]
    },
    {
      "cell_type": "code",
      "source": [
        "# Print the number of data in the 'Driven_kms' attribute\n",
        "print(\"\\nNumber of data in the 'Driven_kms' attribute:\", len(car['Driven_kms']))\n",
        "\n",
        "# Plot the count Driven_kms\n",
        "plt.figure(figsize=(17, 6))\n",
        "sns.countplot(x='Driven_kms', data=car)\n",
        "plt.title('Count of Driven_kms')\n",
        "plt.xlabel('Driven_kms')\n",
        "plt.ylabel('Count')\n",
        "plt.show()"
      ],
      "metadata": {
        "colab": {
          "base_uri": "https://localhost:8080/",
          "height": 599
        },
        "id": "s9MUFVe0WynI",
        "outputId": "1cf67879-b5bf-4a45-a520-f9569f91066f"
      },
      "execution_count": 119,
      "outputs": [
        {
          "output_type": "stream",
          "name": "stdout",
          "text": [
            "\n",
            "Number of data in the 'Driven_kms' attribute: 811\n"
          ]
        },
        {
          "output_type": "display_data",
          "data": {
            "text/plain": [
              "<Figure size 1700x600 with 1 Axes>"
            ],
            "image/png": "[encoded data removed]"
          },
          "metadata": {}
        }
      ]
    },
    {
      "cell_type": "code",
      "source": [
        "# Print the counts of Driven_kms\n",
        "five_counts = car['Driven_kms'].value_counts().reset_index()\n",
        "five_counts.columns = ['Driven_kms', 'Count']\n",
        "print(\"\\nCount of each Entry in Driven_kms:\")\n",
        "print(five_counts)"
      ],
      "metadata": {
        "colab": {
          "base_uri": "https://localhost:8080/"
        },
        "id": "ImHunNBJXRV2",
        "outputId": "15066517-d9bd-4ee3-dc22-4c465f57a0a4"
      },
      "execution_count": 120,
      "outputs": [
        {
          "output_type": "stream",
          "name": "stdout",
          "text": [
            "\n",
            "Count of each Entry in Driven_kms:\n",
            "     Driven_kms  Count\n",
            "0        100000     17\n",
            "1         56000     16\n",
            "2         65000     15\n",
            "3         85000     15\n",
            "4         90000     14\n",
            "..          ...    ...\n",
            "250       72000      1\n",
            "251       68000      1\n",
            "252      105600      1\n",
            "253      126000      1\n",
            "254      197780      1\n",
            "\n",
            "[255 rows x 2 columns]\n"
          ]
        }
      ]
    },
    {
      "cell_type": "code",
      "source": [
        "# Print the number of data in the 'Fuel_Type' attribute\n",
        "print(\"\\nNumber of data in the 'Fuel_Type' attribute:\", len(car['Fuel_Type']))\n",
        "\n",
        "# Plot the count Fuel_Type\n",
        "plt.figure(figsize=(17, 6))\n",
        "sns.countplot(x='Fuel_Type', data=car)\n",
        "plt.title('Count of Fuel_Type')\n",
        "plt.xlabel('Fuel_Type')\n",
        "plt.ylabel('Count')\n",
        "plt.show()"
      ],
      "metadata": {
        "colab": {
          "base_uri": "https://localhost:8080/",
          "height": 599
        },
        "id": "uzyxG0sOXUPd",
        "outputId": "5c19a00b-395f-4e33-9526-64148e43d552"
      },
      "execution_count": 121,
      "outputs": [
        {
          "output_type": "stream",
          "name": "stdout",
          "text": [
            "\n",
            "Number of data in the 'Fuel_Type' attribute: 811\n"
          ]
        },
        {
          "output_type": "display_data",
          "data": {
            "text/plain": [
              "<Figure size 1700x600 with 1 Axes>"
            ],
            "image/png": "[encoded data removed]"
          },
          "metadata": {}
        }
      ]
    },
    {
      "cell_type": "code",
      "source": [
        "# Print the counts of Fuel_Type\n",
        "six_counts = car['Fuel_Type'].value_counts().reset_index()\n",
        "six_counts.columns = ['Fuel_Type', 'Count']\n",
        "print(\"\\nCount of each Entry in Fuel_Type:\")\n",
        "print(six_counts)"
      ],
      "metadata": {
        "colab": {
          "base_uri": "https://localhost:8080/"
        },
        "id": "9MFY0TxfrAAm",
        "outputId": "3e1dfd2f-a40e-46f5-cfae-9234a938f44b"
      },
      "execution_count": 122,
      "outputs": [
        {
          "output_type": "stream",
          "name": "stdout",
          "text": [
            "\n",
            "Count of each Entry in Fuel_Type:\n",
            "  Fuel_Type  Count\n",
            "0    Octane    549\n",
            "1    Hybrid    103\n",
            "2    Petrol     60\n",
            "3       CNG     58\n",
            "4    Diesel     41\n"
          ]
        }
      ]
    },
    {
      "cell_type": "code",
      "source": [
        "# Print the number of data in the 'Selling_type' attribute\n",
        "print(\"\\nNumber of data in the 'Selling_type' attribute:\", len(car['Selling_type']))\n",
        "\n",
        "# Plot the count Selling_type\n",
        "plt.figure(figsize=(17, 6))\n",
        "sns.countplot(x='Selling_type', data=car)\n",
        "plt.title('Count of Selling_type')\n",
        "plt.xlabel('Selling_type')\n",
        "plt.ylabel('Count')\n",
        "plt.show()"
      ],
      "metadata": {
        "colab": {
          "base_uri": "https://localhost:8080/",
          "height": 599
        },
        "id": "2iSFoCDyXdhl",
        "outputId": "4a67962d-e029-461c-c2f5-ebeddc59d1ce"
      },
      "execution_count": 123,
      "outputs": [
        {
          "output_type": "stream",
          "name": "stdout",
          "text": [
            "\n",
            "Number of data in the 'Selling_type' attribute: 811\n"
          ]
        },
        {
          "output_type": "display_data",
          "data": {
            "text/plain": [
              "<Figure size 1700x600 with 1 Axes>"
            ],
            "image/png": "[encoded data removed]"
          },
          "metadata": {}
        }
      ]
    },
    {
      "cell_type": "code",
      "source": [
        "# Print the counts of Selling_type\n",
        "seven_counts = car['Selling_type'].value_counts().reset_index()\n",
        "seven_counts.columns = ['Selling_type', 'Count']\n",
        "print(\"\\nCount of each Entry in Column Selling_type:\")\n",
        "print(seven_counts)"
      ],
      "metadata": {
        "colab": {
          "base_uri": "https://localhost:8080/"
        },
        "id": "3id9kSu2r4-P",
        "outputId": "46012c0b-11ad-4dee-8d53-c7ba5cf1d244"
      },
      "execution_count": 124,
      "outputs": [
        {
          "output_type": "stream",
          "name": "stdout",
          "text": [
            "\n",
            "Count of each Entry in Column Selling_type:\n",
            "  Selling_type  Count\n",
            "0   Individual    789\n",
            "1       Dealer     22\n"
          ]
        }
      ]
    },
    {
      "cell_type": "code",
      "source": [
        "# Print the number of data in the 'Transmission' attribute\n",
        "print(\"\\nNumber of data in the 'Transmission' attribute:\", len(car['Transmission']))\n",
        "\n",
        "# Plot the count Transmission\n",
        "plt.figure(figsize=(17, 6))\n",
        "sns.countplot(x='Transmission', data=car)\n",
        "plt.title('Count of Transmission')\n",
        "plt.xlabel('Transmission')\n",
        "plt.ylabel('Count')\n",
        "plt.show()"
      ],
      "metadata": {
        "colab": {
          "base_uri": "https://localhost:8080/",
          "height": 599
        },
        "id": "I5lDmr-0XnRJ",
        "outputId": "a7e6faf1-6c89-43d8-f1b0-13d64ce76d3b"
      },
      "execution_count": 125,
      "outputs": [
        {
          "output_type": "stream",
          "name": "stdout",
          "text": [
            "\n",
            "Number of data in the 'Transmission' attribute: 811\n"
          ]
        },
        {
          "output_type": "display_data",
          "data": {
            "text/plain": [
              "<Figure size 1700x600 with 1 Axes>"
            ],
            "image/png": "[encoded data removed]"
          },
          "metadata": {}
        }
      ]
    },
    {
      "cell_type": "code",
      "source": [
        "# Print the counts of Transmission\n",
        "eight_counts = car['Transmission'].value_counts().reset_index()\n",
        "eight_counts.columns = ['Transmission', 'Count']\n",
        "print(\"\\nCount of each Entry in Column Transmission:\")\n",
        "print(eight_counts)"
      ],
      "metadata": {
        "colab": {
          "base_uri": "https://localhost:8080/"
        },
        "id": "W2ApbRtEsGDa",
        "outputId": "ff3b8996-8d46-4cd7-cb4e-5a164f1a6336"
      },
      "execution_count": 126,
      "outputs": [
        {
          "output_type": "stream",
          "name": "stdout",
          "text": [
            "\n",
            "Count of each Entry in Column Transmission:\n",
            "  Transmission  Count\n",
            "0    Automatic    750\n",
            "1       Manual     61\n"
          ]
        }
      ]
    },
    {
      "cell_type": "code",
      "source": [
        "# Print the number of data in the 'Owner' attribute\n",
        "print(\"\\nNumber of data in the 'Owner' attribute:\", len(car['Owner']))\n",
        "\n",
        "# Plot the count Owner\n",
        "plt.figure(figsize=(8, 6))\n",
        "sns.countplot(x='Owner', data=car)\n",
        "plt.title('Count of Owner')\n",
        "plt.xlabel('Owner')\n",
        "plt.ylabel('Count')\n",
        "plt.show()"
      ],
      "metadata": {
        "colab": {
          "base_uri": "https://localhost:8080/",
          "height": 599
        },
        "id": "BlXrRDayXyIU",
        "outputId": "2702a82e-9c5d-4206-a70b-b7906a154862"
      },
      "execution_count": 127,
      "outputs": [
        {
          "output_type": "stream",
          "name": "stdout",
          "text": [
            "\n",
            "Number of data in the 'Owner' attribute: 811\n"
          ]
        },
        {
          "output_type": "display_data",
          "data": {
            "text/plain": [
              "<Figure size 800x600 with 1 Axes>"
            ],
            "image/png": "[encoded data removed]"
          },
          "metadata": {}
        }
      ]
    },
    {
      "cell_type": "code",
      "source": [
        "# Print the counts of Owner\n",
        "eleven_counts = car['Owner'].value_counts().reset_index()\n",
        "eleven_counts.columns = ['Owner', 'Count']\n",
        "print(\"\\nCount of each Entry in Column Owner:\")\n",
        "print(eleven_counts)"
      ],
      "metadata": {
        "colab": {
          "base_uri": "https://localhost:8080/"
        },
        "id": "I6PyM4kIsnx3",
        "outputId": "881e9d84-4302-4b96-8b24-c480fa6cd29a"
      },
      "execution_count": 128,
      "outputs": [
        {
          "output_type": "stream",
          "name": "stdout",
          "text": [
            "\n",
            "Count of each Entry in Column Owner:\n",
            "   Owner  Count\n",
            "0      1    752\n",
            "1      0     59\n"
          ]
        }
      ]
    },
    {
      "cell_type": "code",
      "source": [
        "# Print the counts of Car_Name\n",
        "Car_Name = 'Car_Name'\n",
        "print(\"\\nInformation about the attribute:\", Car_Name)\n",
        "print(car[Car_Name].describe())\n",
        "Car_Name = car[Car_Name].value_counts()\n",
        "\n",
        "print(\"\\nCount of each value in the Car NAme:\")\n",
        "for value, count in Car_Name.items():\n",
        "    print(f\"{value}: {count}\")"
      ],
      "metadata": {
        "colab": {
          "base_uri": "https://localhost:8080/"
        },
        "id": "vROnne4JV_4-",
        "outputId": "1e05f171-be2b-49f9-9e3b-819f197e9eb2"
      },
      "execution_count": 130,
      "outputs": [
        {
          "output_type": "stream",
          "name": "stdout",
          "text": [
            "\n",
            "Information about the attribute: Car_Name\n",
            "count                811\n",
            "unique               411\n",
            "top       Nissan X Trail\n",
            "freq                  20\n",
            "Name: Car_Name, dtype: object\n",
            "\n",
            "Count of each value in the Car NAme:\n",
            "Nissan X Trail: 20\n",
            "Toyota Axio: 13\n",
            "Mazda Axela: 12\n",
            "Toyota Axio X: 12\n",
            "Toyota Corolla X: 12\n",
            "Toyota X Corolla: 11\n",
            "Toyota Premio F: 11\n",
            "Nissan Carryboy: 9\n",
            "Toyota Aqua: 9\n",
            "Toyota Corolla: 9\n",
            "Toyota Allion: 8\n",
            "Toyota Allion A: 8\n",
            "Mitsubishi Outlander: 7\n",
            "Nissan X Trail Hybrid: 7\n",
            "Toyota Allion G: 7\n",
            "Toyota Harrier: 7\n",
            "Nissan Sunny: 7\n",
            "Honda Accord: 6\n",
            "Toyota Raum: 6\n",
            "Toyota X Fielder: 6\n",
            "Toyota Hiace Super GL: 6\n",
            "Honda Vezel Hybrid: 6\n",
            "Toyota Probox: 6\n",
            "Toyota Axio X Hybrid: 5\n",
            "Toyota Corolla G: 5\n",
            "Toyota Passo: 5\n",
            "Toyota Succeed: 5\n",
            "Toyota Corolla Cross: 4\n",
            "Mercedes-Benz B-Class: 4\n",
            "Honda Civic FC Car: 4\n",
            "Honda Vezel: 4\n",
            "Toyota Spacio X: 4\n",
            "Range Rover Sport P4: 4\n",
            "Toyota Rush: 4\n",
            "Honda CR V: 4\n",
            "Mitsubishi Lancer GLX: 4\n",
            "Toyota Ractis G Edition: 3\n",
            "Toyota Fielder: 3\n",
            "Toyota Axio X Grade Silver Car: 3\n",
            "Toyota Prius S Safety: 3\n",
            "Range Rover Evoque: 3\n",
            "Toyota Axio Hybrid: 3\n",
            "Toyota Prius S: 3\n",
            "Ford Ecosport: 3\n",
            "Toyota Allion A Car: 3\n",
            "DFSK Glory I   Auto: 3\n",
            "Suzuki Maruti: 3\n",
            "Kia Picanto Ex: 3\n",
            "Nissan X   Trail: 3\n",
            "Nissan X-Trail SUNROOF: 3\n",
            "Nissan X-Trail Hybrid: 3\n",
            "Toyota Axio G: 3\n",
            "Toyota Fielder Hybrid: 3\n",
            "Toyota Corolla Cross Z: 3\n",
            "Kia Sportage: 3\n",
            "Hyundai Tucson: 3\n",
            "Mitsubishi Outlander Roadest: 3\n",
            "Toyota Corolla Axio Silver Color: 3\n",
            "Toyota Aqua G Edition: 3\n",
            "Honda Vezel Z Hybrid: 3\n",
            "Toyota Starlet Carat: 3\n",
            "Honda Grace EX Mica Blue Color: 2\n",
            "Toyota bB G: 2\n",
            "Mercedes Benz B: 2\n",
            "Toyota Fielder X Hybrid: 2\n",
            "Toyota LiteAce GL: 2\n",
            "Toyota Premio G: 2\n",
            "Toyota Carina GT: 2\n",
            "Toyota Wish: 2\n",
            "Toyota Passo Silver: 2\n",
            "Toyota Fielder New Shape: 2\n",
            "Nissan Cefiro G: 2\n",
            "Toyota Prado: 2\n",
            "Toyota Axio Fielder: 2\n",
            "Toyota Axio Model: 2\n",
            "Toyota C HR Hybrid: 2\n",
            "Toyota Probox Dx: 2\n",
            "Toyota Corolla AE: 2\n",
            "Toyota Avanza G: 2\n",
            "Toyota Axio G Hybrid: 2\n",
            "Toyota Axio G Edition: 2\n",
            "Toyota Probox M Crop: 2\n",
            "Toyota Aqua Hybrid Car: 2\n",
            "Toyota Axio G WXB: 2\n",
            "Toyota Axio X Auction Sheet White: 2\n",
            "Toyota Corolla X Edition: 2\n",
            "Haval H: 2\n",
            "Toyota Probox Succeed: 2\n",
            "Toyota Yaris Cross: 2\n",
            "Nissan X Trail Gray Metallic Color: 2\n",
            "Toyota Corolla Axio White Color Car: 2\n",
            "Toyota C HR G Hybrid: 2\n",
            "Nissan X Trail New Shape: 2\n",
            "Toyota Esquire Gi Premium Pearl: 2\n",
            "Toyota C HR G LED Wine Red: 2\n",
            "Mitsubishi l300: 2\n",
            "Honda Airwave: 2\n",
            "Honda Grace EX Hybrid: 2\n",
            "Mitsubishi Lancer GLX Metallic Red: 2\n",
            "Range Rover black colour: 2\n",
            "Mazda MX-5er s special: 2\n",
            "Mercedes-Benz E-Class: 2\n",
            "Mercedes-Benz GLS-Class: 2\n",
            "Hyundai H1 G: 2\n",
            "Hyundai H1 Diesel: 2\n",
            "Hyundai H1: 2\n",
            "Mitsubishi: 2\n",
            "Mitsubishi Pajero: 2\n",
            "Nissan X-Trail MOOD PREMIER AUTECH: 2\n",
            "Nissan Carryboy : 2\n",
            "Nissan Navara D22 8k tax: 2\n",
            "Nissan Navara: 2\n",
            "Nissan Patrol  : 2\n",
            "Nissan X-Trail: 2\n",
            "Kia Sportage Hard Jeep: 2\n",
            "Kia Sportage G Sunroof: 2\n",
            "Kia Sportage G: 2\n",
            "Kia Sportage Sunroof: 2\n",
            "Toyota Allion Silver: 2\n",
            "Nissan X Trail : 2\n",
            "Nissan Sylphy Bluebird: 2\n",
            "Toyota Premio F EX Pearl Color: 2\n",
            "Mitsubishi Pajero Exceed V: 2\n",
            "Toyota Esquire Mica Car: 2\n",
            "Volkswagen Passat: 2\n",
            "Mitsubishi Outlander Gray: 2\n",
            "Mitsubishi ASX: 2\n",
            "Toyota Esquire: 2\n",
            "Toyota Hiace: 2\n",
            "Toyota Aqua Silver: 2\n",
            "Toyota Fielder G: 2\n",
            "Toyota Voxy G Hybrid: 2\n",
            "Toyota Cross Z Hybrid: 2\n",
            "Toyota Prius S Pearl Car: 2\n",
            "Toyota Axio X Auto Transmission: 2\n",
            "Toyota Noah X Hybrid: 2\n",
            "Toyota Voxy V Hybrid: 2\n",
            "Toyota Hiace Grand Cabin Silver Car: 2\n",
            "Toyota Crown Advance RS: 2\n",
            "Toyota Voxy V Hybrid : 2\n",
            "Nissan X Trail Blue New Shape: 2\n",
            "Toyota Harrier Black Color: 2\n",
            "Toyota Allion G Plus: 2\n",
            "Toyota Ractis G: 2\n",
            "Toyota X Corolla White Color: 2\n",
            "Nissan March: 2\n",
            "Honda CR V Black: 2\n",
            "Toyota C   HR G   LED 2017 Red Wine: 2\n",
            "Toyota C   HR G   LED Package: 2\n",
            "Nissan X-Trail : 2\n",
            "Nissan Wingroad: 2\n",
            "Nissan Cefiro: 2\n",
            "Nissan Juke G PKG PUSH START: 2\n",
            "Nissan Dualis Moon Roof: 2\n",
            "Nissan Bluebird OCTANE: 2\n",
            "Nissan X-Trail Hard Jeep Duel Ac: 2\n",
            "Nissan Bluebird Sylphy Octane drive: 2\n",
            "Nissan X-Trail 7 Sitter: 2\n",
            "Nissan X-Trail Mode Premier AUTECH: 2\n",
            "Nissan X-Trail fresh: 2\n",
            "Nissan Sunny EX: 2\n",
            "Nissan X-Trail Hybrid Full Fresh: 2\n",
            "Maruti Suzuki: 2\n",
            "Toyota Platz: 2\n",
            "Toyota Corolla Cross Z Pearl: 2\n",
            "Toyota Probox Silver: 2\n",
            "Toyota Vitz: 2\n",
            "Toyota Probox super GL: 2\n",
            "Toyota Axio Pearl: 2\n",
            "Totota Corolla X: 2\n",
            "Honda Civic: 2\n",
            "Toyota Allion G plus: 2\n",
            "Toyota Aqua Car: 2\n",
            "Toyota Allion  A: 2\n",
            "Toyota Premio G Edition: 2\n",
            "Toyota Noah X: 2\n",
            "Toyota Aqua G Push: 2\n",
            "Toyota Axio Red Wine Color: 2\n",
            "Proton Saga: 2\n",
            "Toyota Probox White: 2\n",
            "Toyota Noah KR: 2\n",
            "Nissan Dualis SHAPE NEW: 2\n",
            "Kia Picanto: 2\n",
            "Toyota Axio Fielder Hybrid: 2\n",
            "Toyota Corolla X Pearl Color: 2\n",
            "Honda Vezel RS Blue: 2\n",
            "Honda Vezel Hybrid Z Red Color: 1\n",
            "Mazda MX-5 Convertible.Miata: 1\n",
            "Mazda Axelative: 1\n",
            "Mazda Axela Ang: 1\n",
            "Mazda 3 S uring: 1\n",
            "Mazda S TU20: 1\n",
            "Mazda Axela Ssky active: 1\n",
            "Mazda Axela A18: 1\n",
            "Mazda Axela G A : 1\n",
            "Mazda Axela olour: 1\n",
            "Mazda Ss pkg: 1\n",
            "Mazda Demio G D : 1\n",
            "Mazda Axela ctive: 1\n",
            "Mercedes-Benz V-Class V220d: 1\n",
            "Mazda Demio Ded : 1\n",
            "Mazda CX-3 cx: 1\n",
            "Mercedes-Benz C-Class black Metallic: 1\n",
            "Toyota Axio G Push (Non Hybrid: 1\n",
            "Mercedes-Benz B-Class MoonRoof: 1\n",
            "Mercedes-Benz GLS-Class GLS 450: 1\n",
            "Mercedes-Benz E-Class E200: 1\n",
            "Mercedes-Benz: 1\n",
            "Mercedes-Benz S-Class S320 PKG: 1\n",
            "Mercedes-Benz S-Class S350D.AMG,PKG: 1\n",
            "Mercedes-Benz GLE-Class Gle450.4Matic.AMG: 1\n",
            "Mercedes-Benz GLS-Class Gls450,4Matic,7Seats: 1\n",
            "Mazda CX-7 cx: 1\n",
            "Nissan X Trail Hybrid  Grey color: 1\n",
            "Mazda Axela start: 1\n",
            "Mazda Axela Pro L-active: 1\n",
            "Range Rover Evoque P3: 1\n",
            "Range Rover Vogue Aut: 1\n",
            "Range Rover Sport Aut: 1\n",
            "Range Rover Evoque Au: 1\n",
            "Mazda Axela Pro Active: 1\n",
            "Mazda Axela Ae pkg: 1\n",
            "Mazda Axela Pctive: 1\n",
            "Mazda RX-8 rx: 1\n",
            "Mazda Axelapackage: 1\n",
            "Mazda Axelaxelaa: 1\n",
            "Mazda Axela drive: 1\n",
            "Mazda MX-5kage: 1\n",
            "Mercedes-Benz GLS-Class GLS450.DIAMOND,AMG: 1\n",
            "Mazda Axelactive: 1\n",
            "Mazda 3 15ng: 1\n",
            "Mazda Axela fresh: 1\n",
            "Mazda Axela A: 1\n",
            "Mazda Axela (Pro L (pro-active: 1\n",
            "Mazda Axelar: 1\n",
            "Mazda MX-5 mx: 1\n",
            "Mazda Axelaro active: 1\n",
            "Mazda Axela wine: 1\n",
            "Mazda Axela Stive hatchback: 1\n",
            "Mazda Axela Aed: 1\n",
            "Mercedes-Benz GLB 200 Luxury.Crossover.Suv: 1\n",
            "Mercedes-Benz E 250 silvar colour: 1\n",
            "Mercedes-Benz C200 blu colours: 1\n",
            "Toyota Prius Sports Edition: 1\n",
            "Toyota Vitz Jewela Dark Brown: 1\n",
            "Mitsubishi Outlander Jeep: 1\n",
            "Foday Landfort: 1\n",
            "Mitsubishi Jeep: 1\n",
            "Mitsubishi Pajero G: 1\n",
            "Mitsubishi Pajero Leadership jeep: 1\n",
            "Mitsubishi l200 SUPER FRESH-2477 CC: 1\n",
            "Mitsubishi l200 DIESEL+MANUAL-2477CC: 1\n",
            "Nissan Carryboy Double Cabin Pickup: 1\n",
            "Nissan Patrol : 1\n",
            "Nissan Patrol Diesel: 1\n",
            "Suzuki Swift: 1\n",
            "Hyundai H1 silver: 1\n",
            "Toyota Voxy Hybrid: 1\n",
            "MG HS G Lux: 1\n",
            "MG ZS: 1\n",
            "Kia Soul Maroon interior: 1\n",
            "Kia Sportage Sunroof Octne Drive: 1\n",
            "Kia Sportage with Sunroof: 1\n",
            "Kia Sportage Fresh: 1\n",
            "Kia Sorento manual gear: 1\n",
            "Toyota Mark II: 1\n",
            "Toyota Vitz Jewela: 1\n",
            "Honda Vezel  Non Hybrid: 1\n",
            "Mitsubishi l200 Sportero: 1\n",
            "Hyundai H1 .: 1\n",
            "Nissan Juke Series: 1\n",
            "Mercedes-Benz GLB 200 Premium 7Seater: 1\n",
            "Mercedes-Benz C-Class C180 Kompressor: 1\n",
            "Toyota Land Cruiser V: 1\n",
            "Mercedes-Benz S-Class: 1\n",
            "Hyundai Sonata: 1\n",
            "Mercedes-Benz E 250 AMG CABRIOLET: 1\n",
            "Mercedes-Benz E 250 AMG.AVANTGARDE: 1\n",
            "Mercedes-Benz E 250 chilbar colour: 1\n",
            "Mercedes-Benz C200 green colour: 1\n",
            "Mercedes-Benz GLE-Class GLE 4MATIC AMG: 1\n",
            "Mercedes-Benz CL-Class Compressor Spors: 1\n",
            "Mercedes-Benz GLS-Class Gls450.FULL.LOADED: 1\n",
            "Mercedes-Benz GLS-Class 450,4Matic,7Seat: 1\n",
            "Toyota Harrier Black: 1\n",
            "Mercedes-Benz GLS-Class Gls450 Luxurious Suv: 1\n",
            "Mercedes-Benz GLB 200 Premium Plus AMG: 1\n",
            "Mercedes-Benz S-Class All original: 1\n",
            "Mercedes-Benz GLA-Class 180 Mini SUV: 1\n",
            "Mercedes-Benz C-Class C180 KOMPRESSOR: 1\n",
            "Hyundai H1 MVP: 1\n",
            "Hyundai H1 MICROBUS: 1\n",
            "Hyundai H1 (Sunroof,12 Seat): 1\n",
            "Mazda CXseven Black Color: 1\n",
            "Hyundai H1 12 Passenger Octane: 1\n",
            "Toyota Spacio X G Edition: 1\n",
            "Range Rover Sports P4: 1\n",
            "Range Rover Vogue Sport: 1\n",
            "Range Rover black colour : 1\n",
            "Nissan X   trail Hybrid Mode Premier: 1\n",
            "Toyota Prius: 1\n",
            "Nissan X Trail Hybrid Fuel Model: 1\n",
            "Mitsubishi Mirage: 1\n",
            "Toyota Harrier Premium: 1\n",
            "Toyota Corolla X Silver Color: 1\n",
            "Mitsubishi Xpander: 1\n",
            "Nissan Bluebird: 1\n",
            "Toyota Harrier Z: 1\n",
            "Toyota Carina TI: 1\n",
            "Toyota Corolla Axio: 1\n",
            "Toyota Premio F Pearl color: 1\n",
            "Nissan X Trail Hybrid Bronze Color: 1\n",
            "Toyota LiteAce GLX: 1\n",
            "Nissan X Trail Hybrid Pearl Color Car: 1\n",
            "Nissan X Trail Black: 1\n",
            "Hyundai Elantra GLS: 1\n",
            "Toyota Prius Alpha SL: 1\n",
            "Proton Exora: 1\n",
            "Toyota Avanza Black Color: 1\n",
            "Toyota Harrier Premium Advance Sunroof: 1\n",
            "Toyota IST: 1\n",
            "Toyota Harrier Premium Pearl Color: 1\n",
            "BMW Saloon: 1\n",
            "Toyota Axio G Package: 1\n",
            "Honda CRV Blue: 1\n",
            "Toyota Fielder X: 1\n",
            "Honda CR V Black  Seat: 1\n",
            "Suzuki Swift VXI: 1\n",
            "Toyota Premio Pearl Color: 1\n",
            "Honda Vezel Z: 1\n",
            "Nissan Teana: 1\n",
            "Toyota X Corolla Silver: 1\n",
            "Nissan Sunny EX Saloon: 1\n",
            "Toyota rush: 1\n",
            "Toyota Axio push: 1\n",
            "Toyota Allion Silver Color: 1\n",
            "Toyota Axio Pearl Color: 1\n",
            "Honda Vezel octane Drive: 1\n",
            "Toyota Axio X Pearl Color: 1\n",
            "Nissan X Trail Pearl: 1\n",
            "Honda CR V Pearl White: 1\n",
            "Toyota Probox GL: 1\n",
            "Mitsubishi Lancer: 1\n",
            "Toyota C   HR: 1\n",
            "Toyota Corolla Cross Z Hybrid: 1\n",
            "Toyota Corolla X Pearl: 1\n",
            "Toyota Harrier Premium Pearl: 1\n",
            "Mazda Rxeight: 1\n",
            "Toyota Corolla Cross Z Black: 1\n",
            "Nissan X Trail Hybrid Pearl color: 1\n",
            "Toyota Premio FL Package: 1\n",
            "Nissan Bluebird Silver: 1\n",
            "Toyota Corolla X Silver: 1\n",
            "Toyota Corolla X Fielder: 1\n",
            "Toyota Premio: 1\n",
            "Toyota Fielder WXB: 1\n",
            "Nissan Bluebird Sylphy: 1\n",
            "Toyota G Plus Pearl: 1\n",
            "Nissan Juke Super Fresh: 1\n",
            "Nissan X-Trail super fresh: 1\n",
            "Nissan Juke PUSH: 1\n",
            "Toyota Esquire GI: 1\n",
            "Nissan Dualis : 1\n",
            "Tata Indigo Ecs: 1\n",
            "Toyota Saloon Modify X Corolla: 1\n",
            "Toyota C HR Dual Tone: 1\n",
            "Toyota Ractis: 1\n",
            "Toyota Premio F Package: 1\n",
            "Honda Vezel Octane S Package: 1\n",
            "Haval Hamilton White: 1\n",
            "Audi Q: 1\n",
            "Toyota TI Carina: 1\n",
            "Toyota Axio X Limited: 1\n",
            "Nissan X   Trail Hard Jeep: 1\n",
            "Toyota Noah: 1\n",
            "Toyota Corolla G Edition: 1\n",
            "Range Rover Vogue Autobiography: 1\n",
            "Range Rover Sports: 1\n",
            "Range Rover Evoque S14: 1\n",
            "Range Rover Sport P400e: 1\n",
            "Range Rover Evouque: 1\n",
            "Range Rover black: 1\n",
            "Honda City New Shape: 1\n",
            "BMW seven four zero Li V eight E: 1\n",
            "Honda Grace EX Package: 1\n",
            "Toyota Axio X Non Hybrid Car: 1\n",
            "Toyota Axio X Addition: 1\n",
            "Toyota Axio G White: 1\n",
            "Toyota Harrier Progress: 1\n",
            "Toyota Harrier Advance Premium: 1\n",
            "Toyota Hiace Grand Cabin: 1\n",
            "Toyota Axio X Silver: 1\n",
            "Toyota Axio X White: 1\n",
            "Honda CR V Pearl: 1\n",
            "Toyota Premio FL Pearl Car: 1\n",
            "Toyota Esquire GI Pearl: 1\n",
            "Toyota Voxy ZS Mica Blue: 1\n",
            "Toyota Prius S Package: 1\n",
            "Toyota Premio F  Silver Color: 1\n",
            "Nissan X Trail Red Color: 1\n",
            "Toyota Premio F EX Pearl: 1\n",
            "Toyota Allion A fifteen: 1\n",
            "Toyota Hiace Super GL Pearl: 1\n",
            "Honda C RV Black Car: 1\n",
            "Toyota Harrier Hybrid New Shape: 1\n",
            "Toyota Axio X All Auto Car: 1\n",
            "Toyota Premio F EX: 1\n",
            "Toyota Land Cruiser Prado TX Limited: 1\n",
            "Toyota Corolla Old Shape: 1\n",
            "Toyota Axio X Non Hybrid Octane: 1\n",
            "Toyota Corolla 100 Wagon: 1\n"
          ]
        }
      ]
    },
    {
      "cell_type": "markdown",
      "source": [
        "# **Dataset Pre-Processing**"
      ],
      "metadata": {
        "id": "W_UEUiXEs9Sf"
      }
    },
    {
      "cell_type": "code",
      "source": [
        "car.head()"
      ],
      "metadata": {
        "colab": {
          "base_uri": "https://localhost:8080/",
          "height": 206
        },
        "id": "SRZLz2M5cmDI",
        "outputId": "4b56baa9-960c-434f-b903-27880cdfda8e"
      },
      "execution_count": 131,
      "outputs": [
        {
          "output_type": "execute_result",
          "data": {
            "text/plain": [
              "         Car_Name  Year  Selling_Price  Present_Price  Driven_kms Fuel_Type  \\\n",
              "0  Toyota Harrier  2005           22.5             60       70000    Octane   \n",
              "1     Honda Vezel  2014           19.2             45       57000    Hybrid   \n",
              "2     Toyota Aqua  2014           12.0             25       45000    Octane   \n",
              "3   Toyota Allion  2007           15.2             25        7879    Octane   \n",
              "4     Toyota Aqua  2014           14.3             30       55000    Octane   \n",
              "\n",
              "  Selling_type Transmission  Owner  \n",
              "0   Individual    Automatic      1  \n",
              "1   Individual    Automatic      1  \n",
              "2   Individual    Automatic      1  \n",
              "3   Individual    Automatic      1  \n",
              "4   Individual    Automatic      1  "
            ],
            "text/html": [
              "\n",
              "  <div id=\"df-95162b34-64e0-4d60-9945-f0b65da53530\" class=\"colab-df-container\">\n",
              "    <div>\n",
              "<style scoped>\n",
              "    .dataframe tbody tr th:only-of-type {\n",
              "        vertical-align: middle;\n",
              "    }\n",
              "\n",
              "    .dataframe tbody tr th {\n",
              "        vertical-align: top;\n",
              "    }\n",
              "\n",
              "    .dataframe thead th {\n",
              "        text-align: right;\n",
              "    }\n",
              "</style>\n",
              "<table border=\"1\" class=\"dataframe\">\n",
              "  <thead>\n",
              "    <tr style=\"text-align: right;\">\n",
              "      <th></th>\n",
              "      <th>Car_Name</th>\n",
              "      <th>Year</th>\n",
              "      <th>Selling_Price</th>\n",
              "      <th>Present_Price</th>\n",
              "      <th>Driven_kms</th>\n",
              "      <th>Fuel_Type</th>\n",
              "      <th>Selling_type</th>\n",
              "      <th>Transmission</th>\n",
              "      <th>Owner</th>\n",
              "    </tr>\n",
              "  </thead>\n",
              "  <tbody>\n",
              "    <tr>\n",
              "      <th>0</th>\n",
              "      <td>Toyota Harrier</td>\n",
              "      <td>2005</td>\n",
              "      <td>22.5</td>\n",
              "      <td>60</td>\n",
              "      <td>70000</td>\n",
              "      <td>Octane</td>\n",
              "      <td>Individual</td>\n",
              "      <td>Automatic</td>\n",
              "      <td>1</td>\n",
              "    </tr>\n",
              "    <tr>\n",
              "      <th>1</th>\n",
              "      <td>Honda Vezel</td>\n",
              "      <td>2014</td>\n",
              "      <td>19.2</td>\n",
              "      <td>45</td>\n",
              "      <td>57000</td>\n",
              "      <td>Hybrid</td>\n",
              "      <td>Individual</td>\n",
              "      <td>Automatic</td>\n",
              "      <td>1</td>\n",
              "    </tr>\n",
              "    <tr>\n",
              "      <th>2</th>\n",
              "      <td>Toyota Aqua</td>\n",
              "      <td>2014</td>\n",
              "      <td>12.0</td>\n",
              "      <td>25</td>\n",
              "      <td>45000</td>\n",
              "      <td>Octane</td>\n",
              "      <td>Individual</td>\n",
              "      <td>Automatic</td>\n",
              "      <td>1</td>\n",
              "    </tr>\n",
              "    <tr>\n",
              "      <th>3</th>\n",
              "      <td>Toyota Allion</td>\n",
              "      <td>2007</td>\n",
              "      <td>15.2</td>\n",
              "      <td>25</td>\n",
              "      <td>7879</td>\n",
              "      <td>Octane</td>\n",
              "      <td>Individual</td>\n",
              "      <td>Automatic</td>\n",
              "      <td>1</td>\n",
              "    </tr>\n",
              "    <tr>\n",
              "      <th>4</th>\n",
              "      <td>Toyota Aqua</td>\n",
              "      <td>2014</td>\n",
              "      <td>14.3</td>\n",
              "      <td>30</td>\n",
              "      <td>55000</td>\n",
              "      <td>Octane</td>\n",
              "      <td>Individual</td>\n",
              "      <td>Automatic</td>\n",
              "      <td>1</td>\n",
              "    </tr>\n",
              "  </tbody>\n",
              "</table>\n",
              "</div>\n",
              "    <div class=\"colab-df-buttons\">\n",
              "\n",
              "  <div class=\"colab-df-container\">\n",
              "    <button class=\"colab-df-convert\" onclick=\"convertToInteractive('df-95162b34-64e0-4d60-9945-f0b65da53530')\"\n",
              "            title=\"Convert this dataframe to an interactive table.\"\n",
              "            style=\"display:none;\">\n",
              "\n",
              "  <svg xmlns=\"http://www.w3.org/2000/svg\" height=\"24px\" viewBox=\"0 -960 960 960\">\n",
              "    <path d=\"M120-120v-720h720v720H120Zm60-500h600v-160H180v160Zm220 220h160v-160H400v160Zm0 220h160v-160H400v160ZM180-400h160v-160H180v160Zm440 0h160v-160H620v160ZM180-180h160v-160H180v160Zm440 0h160v-160H620v160Z\"/>\n",
              "  </svg>\n",
              "    </button>\n",
              "\n",
              "  <style>\n",
              "    .colab-df-container {\n",
              "      display:flex;\n",
              "      gap: 12px;\n",
              "    }\n",
              "\n",
              "    .colab-df-convert {\n",
              "      background-color: #E8F0FE;\n",
              "      border: none;\n",
              "      border-radius: 50%;\n",
              "      cursor: pointer;\n",
              "      display: none;\n",
              "      fill: #1967D2;\n",
              "      height: 32px;\n",
              "      padding: 0 0 0 0;\n",
              "      width: 32px;\n",
              "    }\n",
              "\n",
              "    .colab-df-convert:hover {\n",
              "      background-color: #E2EBFA;\n",
              "      box-shadow: 0px 1px 2px rgba(60, 64, 67, 0.3), 0px 1px 3px 1px rgba(60, 64, 67, 0.15);\n",
              "      fill: #174EA6;\n",
              "    }\n",
              "\n",
              "    .colab-df-buttons div {\n",
              "      margin-bottom: 4px;\n",
              "    }\n",
              "\n",
              "    [theme=dark] .colab-df-convert {\n",
              "      background-color: #3B4455;\n",
              "      fill: #D2E3FC;\n",
              "    }\n",
              "\n",
              "    [theme=dark] .colab-df-convert:hover {\n",
              "      background-color: #434B5C;\n",
              "      box-shadow: 0px 1px 3px 1px rgba(0, 0, 0, 0.15);\n",
              "      filter: drop-shadow(0px 1px 2px rgba(0, 0, 0, 0.3));\n",
              "      fill: #FFFFFF;\n",
              "    }\n",
              "  </style>\n",
              "\n",
              "    <script>\n",
              "      const buttonEl =\n",
              "        document.querySelector('#df-95162b34-64e0-4d60-9945-f0b65da53530 button.colab-df-convert');\n",
              "      buttonEl.style.display =\n",
              "        google.colab.kernel.accessAllowed ? 'block' : 'none';\n",
              "\n",
              "      async function convertToInteractive(key) {\n",
              "        const element = document.querySelector('#df-95162b34-64e0-4d60-9945-f0b65da53530');\n",
              "        const dataTable =\n",
              "          await google.colab.kernel.invokeFunction('convertToInteractive',\n",
              "                                                    [key], {});\n",
              "        if (!dataTable) return;\n",
              "\n",
              "        const docLinkHtml = 'Like what you see? Visit the ' +\n",
              "          '<a target=\"_blank\" href=https://colab.research.google.com/notebooks/data_table.ipynb>data table notebook</a>'\n",
              "          + ' to learn more about interactive tables.';\n",
              "        element.innerHTML = '';\n",
              "        dataTable['output_type'] = 'display_data';\n",
              "        await google.colab.output.renderOutput(dataTable, element);\n",
              "        const docLink = document.createElement('div');\n",
              "        docLink.innerHTML = docLinkHtml;\n",
              "        element.appendChild(docLink);\n",
              "      }\n",
              "    </script>\n",
              "  </div>\n",
              "\n",
              "\n",
              "<div id=\"df-89919396-33b1-4b91-8946-589cccaa9dd7\">\n",
              "  <button class=\"colab-df-quickchart\" onclick=\"quickchart('df-89919396-33b1-4b91-8946-589cccaa9dd7')\"\n",
              "            title=\"Suggest charts\"\n",
              "            style=\"display:none;\">\n",
              "\n",
              "<svg xmlns=\"http://www.w3.org/2000/svg\" height=\"24px\"viewBox=\"0 0 24 24\"\n",
              "     width=\"24px\">\n",
              "    <g>\n",
              "        <path d=\"M19 3H5c-1.1 0-2 .9-2 2v14c0 1.1.9 2 2 2h14c1.1 0 2-.9 2-2V5c0-1.1-.9-2-2-2zM9 17H7v-7h2v7zm4 0h-2V7h2v10zm4 0h-2v-4h2v4z\"/>\n",
              "    </g>\n",
              "</svg>\n",
              "  </button>\n",
              "\n",
              "<style>\n",
              "  .colab-df-quickchart {\n",
              "      --bg-color: #E8F0FE;\n",
              "      --fill-color: #1967D2;\n",
              "      --hover-bg-color: #E2EBFA;\n",
              "      --hover-fill-color: #174EA6;\n",
              "      --disabled-fill-color: #AAA;\n",
              "      --disabled-bg-color: #DDD;\n",
              "  }\n",
              "\n",
              "  [theme=dark] .colab-df-quickchart {\n",
              "      --bg-color: #3B4455;\n",
              "      --fill-color: #D2E3FC;\n",
              "      --hover-bg-color: #434B5C;\n",
              "      --hover-fill-color: #FFFFFF;\n",
              "      --disabled-bg-color: #3B4455;\n",
              "      --disabled-fill-color: #666;\n",
              "  }\n",
              "\n",
              "  .colab-df-quickchart {\n",
              "    background-color: var(--bg-color);\n",
              "    border: none;\n",
              "    border-radius: 50%;\n",
              "    cursor: pointer;\n",
              "    display: none;\n",
              "    fill: var(--fill-color);\n",
              "    height: 32px;\n",
              "    padding: 0;\n",
              "    width: 32px;\n",
              "  }\n",
              "\n",
              "  .colab-df-quickchart:hover {\n",
              "    background-color: var(--hover-bg-color);\n",
              "    box-shadow: 0 1px 2px rgba(60, 64, 67, 0.3), 0 1px 3px 1px rgba(60, 64, 67, 0.15);\n",
              "    fill: var(--button-hover-fill-color);\n",
              "  }\n",
              "\n",
              "  .colab-df-quickchart-complete:disabled,\n",
              "  .colab-df-quickchart-complete:disabled:hover {\n",
              "    background-color: var(--disabled-bg-color);\n",
              "    fill: var(--disabled-fill-color);\n",
              "    box-shadow: none;\n",
              "  }\n",
              "\n",
              "  .colab-df-spinner {\n",
              "    border: 2px solid var(--fill-color);\n",
              "    border-color: transparent;\n",
              "    border-bottom-color: var(--fill-color);\n",
              "    animation:\n",
              "      spin 1s steps(1) infinite;\n",
              "  }\n",
              "\n",
              "  @keyframes spin {\n",
              "    0% {\n",
              "      border-color: transparent;\n",
              "      border-bottom-color: var(--fill-color);\n",
              "      border-left-color: var(--fill-color);\n",
              "    }\n",
              "    20% {\n",
              "      border-color: transparent;\n",
              "      border-left-color: var(--fill-color);\n",
              "      border-top-color: var(--fill-color);\n",
              "    }\n",
              "    30% {\n",
              "      border-color: transparent;\n",
              "      border-left-color: var(--fill-color);\n",
              "      border-top-color: var(--fill-color);\n",
              "      border-right-color: var(--fill-color);\n",
              "    }\n",
              "    40% {\n",
              "      border-color: transparent;\n",
              "      border-right-color: var(--fill-color);\n",
              "      border-top-color: var(--fill-color);\n",
              "    }\n",
              "    60% {\n",
              "      border-color: transparent;\n",
              "      border-right-color: var(--fill-color);\n",
              "    }\n",
              "    80% {\n",
              "      border-color: transparent;\n",
              "      border-right-color: var(--fill-color);\n",
              "      border-bottom-color: var(--fill-color);\n",
              "    }\n",
              "    90% {\n",
              "      border-color: transparent;\n",
              "      border-bottom-color: var(--fill-color);\n",
              "    }\n",
              "  }\n",
              "</style>\n",
              "\n",
              "  <script>\n",
              "    async function quickchart(key) {\n",
              "      const quickchartButtonEl =\n",
              "        document.querySelector('#' + key + ' button');\n",
              "      quickchartButtonEl.disabled = true;  // To prevent multiple clicks.\n",
              "      quickchartButtonEl.classList.add('colab-df-spinner');\n",
              "      try {\n",
              "        const charts = await google.colab.kernel.invokeFunction(\n",
              "            'suggestCharts', [key], {});\n",
              "      } catch (error) {\n",
              "        console.error('Error during call to suggestCharts:', error);\n",
              "      }\n",
              "      quickchartButtonEl.classList.remove('colab-df-spinner');\n",
              "      quickchartButtonEl.classList.add('colab-df-quickchart-complete');\n",
              "    }\n",
              "    (() => {\n",
              "      let quickchartButtonEl =\n",
              "        document.querySelector('#df-89919396-33b1-4b91-8946-589cccaa9dd7 button');\n",
              "      quickchartButtonEl.style.display =\n",
              "        google.colab.kernel.accessAllowed ? 'block' : 'none';\n",
              "    })();\n",
              "  </script>\n",
              "</div>\n",
              "    </div>\n",
              "  </div>\n"
            ]
          },
          "metadata": {},
          "execution_count": 131
        }
      ]
    },
    {
      "cell_type": "code",
      "source": [
        "# Binning the Selling Prices\n",
        "bins = [0, 10, 20, float('inf')]\n",
        "labels = ['Low Price', 'Medium Price', 'High Price']\n",
        "car['Price_Category'] = pd.cut(car['Selling_Price'], bins=bins, labels=labels)\n"
      ],
      "metadata": {
        "id": "W4BIqq7VwbgF"
      },
      "execution_count": 132,
      "outputs": []
    },
    {
      "cell_type": "code",
      "source": [
        "# Initialize the LabelEncoder\n",
        "label_encoder = LabelEncoder()\n",
        "\n",
        "# Apply label encoding to the target column\n",
        "car['Price_Category'] = label_encoder.fit_transform(car['Price_Category'])\n",
        "# Apply label encoding to the selected columns\n",
        "categorical_columns = ['Car_Name', 'Fuel_Type', 'Selling_type', 'Transmission']\n",
        "\n",
        "for column in categorical_columns:\n",
        "    car[column] = label_encoder.fit_transform(car[column])\n",
        "\n",
        "# Display the updated dataset\n",
        "print(car.head())\n",
        "\n"
      ],
      "metadata": {
        "colab": {
          "base_uri": "https://localhost:8080/"
        },
        "id": "-f_drCXYwfKb",
        "outputId": "29c7b0c7-3a7c-404d-ee96-22bd26d4453f"
      },
      "execution_count": 133,
      "outputs": [
        {
          "output_type": "stream",
          "name": "stdout",
          "text": [
            "   Car_Name  Year  Selling_Price  Present_Price  Driven_kms  Fuel_Type  \\\n",
            "0       325  2005           22.5             60       70000          3   \n",
            "1        23  2014           19.2             45       57000          2   \n",
            "2       243  2014           12.0             25       45000          3   \n",
            "3       233  2007           15.2             25        7879          3   \n",
            "4       243  2014           14.3             30       55000          3   \n",
            "\n",
            "   Selling_type  Transmission  Owner  Price_Category  \n",
            "0             1             0      1               0  \n",
            "1             1             0      1               2  \n",
            "2             1             0      1               2  \n",
            "3             1             0      1               2  \n",
            "4             1             0      1               2  \n"
          ]
        }
      ]
    },
    {
      "cell_type": "markdown",
      "source": [
        "In label encoding, each unique value in a categorical column is assigned an integer label. The assignment is done based on the order of appearance of unique values. Here's a breakdown of how the label encoding was applied to each column:\n",
        "\n",
        "1.Car_Name: Each unique car name in the 'Car_Name' column is assigned a unique integer label.\n",
        "For example, the serial of 'Nissan X Trail' is assigned the label 217 cause its serial 217 in dataset, 'Honda Vezel' is assigned the label 23 cause its serial 23 in dataset, and so on.\n",
        "\n",
        "2.Fuel_Type: Each unique fuel type in the 'Fuel_Type' column is assigned a unique integer label.\n",
        "'Octane' is assigned the label 3, 'Hybrid' is assigned the label 2, 'CNG' is assigned the label 1, 'Petrol' is assigned the label 4, and 'Diesel' is assigned the label 0.\n",
        "\n",
        "3.Selling_type: Each unique selling type in the 'Selling_type' column is assigned a unique integer label.\n",
        "'Individual' is assigned the label 1, and 'Dealer' is assigned the label 0.\n",
        "\n",
        "4.Transmission: Each unique transmission type in the 'Transmission' column is assigned a unique integer label.\n",
        "'Automatic' is assigned the label 0, and 'Manual' is assigned the label 1.\n",
        "\n",
        "5. also in  I create bins for \"Low Price,\" \"Medium Price,\" and \"High Price\" based on the distribution of the selling prices in dataset. Let's assume the following bins:\n",
        "\n",
        "Low Price: 0 to 10\n",
        "Medium Price: 10 to 20\n",
        "High Price: 20 and above"
      ],
      "metadata": {
        "id": "DZV8MWZWeBGG"
      }
    },
    {
      "cell_type": "code",
      "source": [
        "# Display the updated DataFrame\n",
        "car.head()"
      ],
      "metadata": {
        "colab": {
          "base_uri": "https://localhost:8080/",
          "height": 206
        },
        "id": "eBpwLRcQxUxU",
        "outputId": "474718e2-670d-4cea-a9b3-3bed1d9e76a9"
      },
      "execution_count": 134,
      "outputs": [
        {
          "output_type": "execute_result",
          "data": {
            "text/plain": [
              "   Car_Name  Year  Selling_Price  Present_Price  Driven_kms  Fuel_Type  \\\n",
              "0       325  2005           22.5             60       70000          3   \n",
              "1        23  2014           19.2             45       57000          2   \n",
              "2       243  2014           12.0             25       45000          3   \n",
              "3       233  2007           15.2             25        7879          3   \n",
              "4       243  2014           14.3             30       55000          3   \n",
              "\n",
              "   Selling_type  Transmission  Owner  Price_Category  \n",
              "0             1             0      1               0  \n",
              "1             1             0      1               2  \n",
              "2             1             0      1               2  \n",
              "3             1             0      1               2  \n",
              "4             1             0      1               2  "
            ],
            "text/html": [
              "\n",
              "  <div id=\"df-9e6af0b8-cca6-4916-a0fe-205258db29c5\" class=\"colab-df-container\">\n",
              "    <div>\n",
              "<style scoped>\n",
              "    .dataframe tbody tr th:only-of-type {\n",
              "        vertical-align: middle;\n",
              "    }\n",
              "\n",
              "    .dataframe tbody tr th {\n",
              "        vertical-align: top;\n",
              "    }\n",
              "\n",
              "    .dataframe thead th {\n",
              "        text-align: right;\n",
              "    }\n",
              "</style>\n",
              "<table border=\"1\" class=\"dataframe\">\n",
              "  <thead>\n",
              "    <tr style=\"text-align: right;\">\n",
              "      <th></th>\n",
              "      <th>Car_Name</th>\n",
              "      <th>Year</th>\n",
              "      <th>Selling_Price</th>\n",
              "      <th>Present_Price</th>\n",
              "      <th>Driven_kms</th>\n",
              "      <th>Fuel_Type</th>\n",
              "      <th>Selling_type</th>\n",
              "      <th>Transmission</th>\n",
              "      <th>Owner</th>\n",
              "      <th>Price_Category</th>\n",
              "    </tr>\n",
              "  </thead>\n",
              "  <tbody>\n",
              "    <tr>\n",
              "      <th>0</th>\n",
              "      <td>325</td>\n",
              "      <td>2005</td>\n",
              "      <td>22.5</td>\n",
              "      <td>60</td>\n",
              "      <td>70000</td>\n",
              "      <td>3</td>\n",
              "      <td>1</td>\n",
              "      <td>0</td>\n",
              "      <td>1</td>\n",
              "      <td>0</td>\n",
              "    </tr>\n",
              "    <tr>\n",
              "      <th>1</th>\n",
              "      <td>23</td>\n",
              "      <td>2014</td>\n",
              "      <td>19.2</td>\n",
              "      <td>45</td>\n",
              "      <td>57000</td>\n",
              "      <td>2</td>\n",
              "      <td>1</td>\n",
              "      <td>0</td>\n",
              "      <td>1</td>\n",
              "      <td>2</td>\n",
              "    </tr>\n",
              "    <tr>\n",
              "      <th>2</th>\n",
              "      <td>243</td>\n",
              "      <td>2014</td>\n",
              "      <td>12.0</td>\n",
              "      <td>25</td>\n",
              "      <td>45000</td>\n",
              "      <td>3</td>\n",
              "      <td>1</td>\n",
              "      <td>0</td>\n",
              "      <td>1</td>\n",
              "      <td>2</td>\n",
              "    </tr>\n",
              "    <tr>\n",
              "      <th>3</th>\n",
              "      <td>233</td>\n",
              "      <td>2007</td>\n",
              "      <td>15.2</td>\n",
              "      <td>25</td>\n",
              "      <td>7879</td>\n",
              "      <td>3</td>\n",
              "      <td>1</td>\n",
              "      <td>0</td>\n",
              "      <td>1</td>\n",
              "      <td>2</td>\n",
              "    </tr>\n",
              "    <tr>\n",
              "      <th>4</th>\n",
              "      <td>243</td>\n",
              "      <td>2014</td>\n",
              "      <td>14.3</td>\n",
              "      <td>30</td>\n",
              "      <td>55000</td>\n",
              "      <td>3</td>\n",
              "      <td>1</td>\n",
              "      <td>0</td>\n",
              "      <td>1</td>\n",
              "      <td>2</td>\n",
              "    </tr>\n",
              "  </tbody>\n",
              "</table>\n",
              "</div>\n",
              "    <div class=\"colab-df-buttons\">\n",
              "\n",
              "  <div class=\"colab-df-container\">\n",
              "    <button class=\"colab-df-convert\" onclick=\"convertToInteractive('df-9e6af0b8-cca6-4916-a0fe-205258db29c5')\"\n",
              "            title=\"Convert this dataframe to an interactive table.\"\n",
              "            style=\"display:none;\">\n",
              "\n",
              "  <svg xmlns=\"http://www.w3.org/2000/svg\" height=\"24px\" viewBox=\"0 -960 960 960\">\n",
              "    <path d=\"M120-120v-720h720v720H120Zm60-500h600v-160H180v160Zm220 220h160v-160H400v160Zm0 220h160v-160H400v160ZM180-400h160v-160H180v160Zm440 0h160v-160H620v160ZM180-180h160v-160H180v160Zm440 0h160v-160H620v160Z\"/>\n",
              "  </svg>\n",
              "    </button>\n",
              "\n",
              "  <style>\n",
              "    .colab-df-container {\n",
              "      display:flex;\n",
              "      gap: 12px;\n",
              "    }\n",
              "\n",
              "    .colab-df-convert {\n",
              "      background-color: #E8F0FE;\n",
              "      border: none;\n",
              "      border-radius: 50%;\n",
              "      cursor: pointer;\n",
              "      display: none;\n",
              "      fill: #1967D2;\n",
              "      height: 32px;\n",
              "      padding: 0 0 0 0;\n",
              "      width: 32px;\n",
              "    }\n",
              "\n",
              "    .colab-df-convert:hover {\n",
              "      background-color: #E2EBFA;\n",
              "      box-shadow: 0px 1px 2px rgba(60, 64, 67, 0.3), 0px 1px 3px 1px rgba(60, 64, 67, 0.15);\n",
              "      fill: #174EA6;\n",
              "    }\n",
              "\n",
              "    .colab-df-buttons div {\n",
              "      margin-bottom: 4px;\n",
              "    }\n",
              "\n",
              "    [theme=dark] .colab-df-convert {\n",
              "      background-color: #3B4455;\n",
              "      fill: #D2E3FC;\n",
              "    }\n",
              "\n",
              "    [theme=dark] .colab-df-convert:hover {\n",
              "      background-color: #434B5C;\n",
              "      box-shadow: 0px 1px 3px 1px rgba(0, 0, 0, 0.15);\n",
              "      filter: drop-shadow(0px 1px 2px rgba(0, 0, 0, 0.3));\n",
              "      fill: #FFFFFF;\n",
              "    }\n",
              "  </style>\n",
              "\n",
              "    <script>\n",
              "      const buttonEl =\n",
              "        document.querySelector('#df-9e6af0b8-cca6-4916-a0fe-205258db29c5 button.colab-df-convert');\n",
              "      buttonEl.style.display =\n",
              "        google.colab.kernel.accessAllowed ? 'block' : 'none';\n",
              "\n",
              "      async function convertToInteractive(key) {\n",
              "        const element = document.querySelector('#df-9e6af0b8-cca6-4916-a0fe-205258db29c5');\n",
              "        const dataTable =\n",
              "          await google.colab.kernel.invokeFunction('convertToInteractive',\n",
              "                                                    [key], {});\n",
              "        if (!dataTable) return;\n",
              "\n",
              "        const docLinkHtml = 'Like what you see? Visit the ' +\n",
              "          '<a target=\"_blank\" href=https://colab.research.google.com/notebooks/data_table.ipynb>data table notebook</a>'\n",
              "          + ' to learn more about interactive tables.';\n",
              "        element.innerHTML = '';\n",
              "        dataTable['output_type'] = 'display_data';\n",
              "        await google.colab.output.renderOutput(dataTable, element);\n",
              "        const docLink = document.createElement('div');\n",
              "        docLink.innerHTML = docLinkHtml;\n",
              "        element.appendChild(docLink);\n",
              "      }\n",
              "    </script>\n",
              "  </div>\n",
              "\n",
              "\n",
              "<div id=\"df-b892a2f2-5d93-4abb-8807-68cb74b94a41\">\n",
              "  <button class=\"colab-df-quickchart\" onclick=\"quickchart('df-b892a2f2-5d93-4abb-8807-68cb74b94a41')\"\n",
              "            title=\"Suggest charts\"\n",
              "            style=\"display:none;\">\n",
              "\n",
              "<svg xmlns=\"http://www.w3.org/2000/svg\" height=\"24px\"viewBox=\"0 0 24 24\"\n",
              "     width=\"24px\">\n",
              "    <g>\n",
              "        <path d=\"M19 3H5c-1.1 0-2 .9-2 2v14c0 1.1.9 2 2 2h14c1.1 0 2-.9 2-2V5c0-1.1-.9-2-2-2zM9 17H7v-7h2v7zm4 0h-2V7h2v10zm4 0h-2v-4h2v4z\"/>\n",
              "    </g>\n",
              "</svg>\n",
              "  </button>\n",
              "\n",
              "<style>\n",
              "  .colab-df-quickchart {\n",
              "      --bg-color: #E8F0FE;\n",
              "      --fill-color: #1967D2;\n",
              "      --hover-bg-color: #E2EBFA;\n",
              "      --hover-fill-color: #174EA6;\n",
              "      --disabled-fill-color: #AAA;\n",
              "      --disabled-bg-color: #DDD;\n",
              "  }\n",
              "\n",
              "  [theme=dark] .colab-df-quickchart {\n",
              "      --bg-color: #3B4455;\n",
              "      --fill-color: #D2E3FC;\n",
              "      --hover-bg-color: #434B5C;\n",
              "      --hover-fill-color: #FFFFFF;\n",
              "      --disabled-bg-color: #3B4455;\n",
              "      --disabled-fill-color: #666;\n",
              "  }\n",
              "\n",
              "  .colab-df-quickchart {\n",
              "    background-color: var(--bg-color);\n",
              "    border: none;\n",
              "    border-radius: 50%;\n",
              "    cursor: pointer;\n",
              "    display: none;\n",
              "    fill: var(--fill-color);\n",
              "    height: 32px;\n",
              "    padding: 0;\n",
              "    width: 32px;\n",
              "  }\n",
              "\n",
              "  .colab-df-quickchart:hover {\n",
              "    background-color: var(--hover-bg-color);\n",
              "    box-shadow: 0 1px 2px rgba(60, 64, 67, 0.3), 0 1px 3px 1px rgba(60, 64, 67, 0.15);\n",
              "    fill: var(--button-hover-fill-color);\n",
              "  }\n",
              "\n",
              "  .colab-df-quickchart-complete:disabled,\n",
              "  .colab-df-quickchart-complete:disabled:hover {\n",
              "    background-color: var(--disabled-bg-color);\n",
              "    fill: var(--disabled-fill-color);\n",
              "    box-shadow: none;\n",
              "  }\n",
              "\n",
              "  .colab-df-spinner {\n",
              "    border: 2px solid var(--fill-color);\n",
              "    border-color: transparent;\n",
              "    border-bottom-color: var(--fill-color);\n",
              "    animation:\n",
              "      spin 1s steps(1) infinite;\n",
              "  }\n",
              "\n",
              "  @keyframes spin {\n",
              "    0% {\n",
              "      border-color: transparent;\n",
              "      border-bottom-color: var(--fill-color);\n",
              "      border-left-color: var(--fill-color);\n",
              "    }\n",
              "    20% {\n",
              "      border-color: transparent;\n",
              "      border-left-color: var(--fill-color);\n",
              "      border-top-color: var(--fill-color);\n",
              "    }\n",
              "    30% {\n",
              "      border-color: transparent;\n",
              "      border-left-color: var(--fill-color);\n",
              "      border-top-color: var(--fill-color);\n",
              "      border-right-color: var(--fill-color);\n",
              "    }\n",
              "    40% {\n",
              "      border-color: transparent;\n",
              "      border-right-color: var(--fill-color);\n",
              "      border-top-color: var(--fill-color);\n",
              "    }\n",
              "    60% {\n",
              "      border-color: transparent;\n",
              "      border-right-color: var(--fill-color);\n",
              "    }\n",
              "    80% {\n",
              "      border-color: transparent;\n",
              "      border-right-color: var(--fill-color);\n",
              "      border-bottom-color: var(--fill-color);\n",
              "    }\n",
              "    90% {\n",
              "      border-color: transparent;\n",
              "      border-bottom-color: var(--fill-color);\n",
              "    }\n",
              "  }\n",
              "</style>\n",
              "\n",
              "  <script>\n",
              "    async function quickchart(key) {\n",
              "      const quickchartButtonEl =\n",
              "        document.querySelector('#' + key + ' button');\n",
              "      quickchartButtonEl.disabled = true;  // To prevent multiple clicks.\n",
              "      quickchartButtonEl.classList.add('colab-df-spinner');\n",
              "      try {\n",
              "        const charts = await google.colab.kernel.invokeFunction(\n",
              "            'suggestCharts', [key], {});\n",
              "      } catch (error) {\n",
              "        console.error('Error during call to suggestCharts:', error);\n",
              "      }\n",
              "      quickchartButtonEl.classList.remove('colab-df-spinner');\n",
              "      quickchartButtonEl.classList.add('colab-df-quickchart-complete');\n",
              "    }\n",
              "    (() => {\n",
              "      let quickchartButtonEl =\n",
              "        document.querySelector('#df-b892a2f2-5d93-4abb-8807-68cb74b94a41 button');\n",
              "      quickchartButtonEl.style.display =\n",
              "        google.colab.kernel.accessAllowed ? 'block' : 'none';\n",
              "    })();\n",
              "  </script>\n",
              "</div>\n",
              "    </div>\n",
              "  </div>\n"
            ]
          },
          "metadata": {},
          "execution_count": 134
        }
      ]
    },
    {
      "cell_type": "code",
      "source": [
        "# Print non-null value counts and data types for each attribute in the dataset\n",
        "print(\"\\nNon-null value counts and data types for each attribute:\")\n",
        "print(car.info())\n"
      ],
      "metadata": {
        "colab": {
          "base_uri": "https://localhost:8080/"
        },
        "id": "kxz4LK2IjDzg",
        "outputId": "f4f3a384-2738-4569-b15c-84c1672d1512"
      },
      "execution_count": 135,
      "outputs": [
        {
          "output_type": "stream",
          "name": "stdout",
          "text": [
            "\n",
            "Non-null value counts and data types for each attribute:\n",
            "<class 'pandas.core.frame.DataFrame'>\n",
            "RangeIndex: 811 entries, 0 to 810\n",
            "Data columns (total 10 columns):\n",
            " #   Column          Non-Null Count  Dtype  \n",
            "---  ------          --------------  -----  \n",
            " 0   Car_Name        811 non-null    int64  \n",
            " 1   Year            811 non-null    int64  \n",
            " 2   Selling_Price   811 non-null    float64\n",
            " 3   Present_Price   811 non-null    int64  \n",
            " 4   Driven_kms      811 non-null    int64  \n",
            " 5   Fuel_Type       811 non-null    int64  \n",
            " 6   Selling_type    811 non-null    int64  \n",
            " 7   Transmission    811 non-null    int64  \n",
            " 8   Owner           811 non-null    int64  \n",
            " 9   Price_Category  811 non-null    int64  \n",
            "dtypes: float64(1), int64(9)\n",
            "memory usage: 63.5 KB\n",
            "None\n"
          ]
        }
      ]
    },
    {
      "cell_type": "markdown",
      "source": [
        "# **Train And Test**"
      ],
      "metadata": {
        "id": "v3AX5TmkyLZ6"
      }
    },
    {
      "cell_type": "code",
      "source": [
        "# Separate features (X) and target variable (y)\n",
        "X = car.drop(['Selling_Price', 'Price_Category'], axis=1)  # Features\n",
        "y = car['Price_Category']  # Target variable\n",
        "\n",
        "# Split the dataset into training and testing sets\n",
        "X_train, X_test, y_train, y_test = train_test_split(X, y, test_size=0.3, random_state=42)\n",
        "\n"
      ],
      "metadata": {
        "id": "jUvKIK0PfeHA"
      },
      "execution_count": 136,
      "outputs": []
    },
    {
      "cell_type": "markdown",
      "source": [
        "# **Algorithms**"
      ],
      "metadata": {
        "id": "OgfdEyhAzMFK"
      }
    },
    {
      "cell_type": "markdown",
      "source": [
        "# **Logistic Regression**"
      ],
      "metadata": {
        "id": "54Dsy-Zw1ki9"
      }
    },
    {
      "cell_type": "markdown",
      "source": [
        "# ***Random Forest***"
      ],
      "metadata": {
        "id": "1zCoIc0D6UuX"
      }
    },
    {
      "cell_type": "code",
      "source": [
        "rf = RandomForestClassifier(random_state=42)\n",
        "rf.fit(X_train, y_train)\n",
        "rf_predictions = rf.predict(X_test)\n",
        "\n",
        "# Print the results for Random Forest\n",
        "rf_accuracy = accuracy_score(y_test, rf_predictions)\n",
        "rf_report = classification_report(y_test, rf_predictions)\n",
        "rf_cm = confusion_matrix(y_test, rf_predictions)\n",
        "\n",
        "print(\"Random Forest Results:\")\n",
        "print(f\"Accuracy: {rf_accuracy}\")\n",
        "print(\"Classification Report:\")\n",
        "print(rf_report)\n",
        "print(\"Confusion Matrix:\")\n",
        "print(rf_cm)"
      ],
      "metadata": {
        "colab": {
          "base_uri": "https://localhost:8080/"
        },
        "id": "vXFi03KA6XpY",
        "outputId": "051723d5-5d01-40fb-cbd2-ee9333cf8aeb"
      },
      "execution_count": 137,
      "outputs": [
        {
          "output_type": "stream",
          "name": "stdout",
          "text": [
            "Random Forest Results:\n",
            "Accuracy: 0.9016393442622951\n",
            "Classification Report:\n",
            "              precision    recall  f1-score   support\n",
            "\n",
            "           0       0.95      0.90      0.92       102\n",
            "           1       0.91      0.89      0.90        47\n",
            "           2       0.85      0.91      0.88        95\n",
            "\n",
            "    accuracy                           0.90       244\n",
            "   macro avg       0.90      0.90      0.90       244\n",
            "weighted avg       0.90      0.90      0.90       244\n",
            "\n",
            "Confusion Matrix:\n",
            "[[92  0 10]\n",
            " [ 0 42  5]\n",
            " [ 5  4 86]]\n"
          ]
        }
      ]
    },
    {
      "cell_type": "code",
      "source": [
        "# Plot Confusion Matrix\n",
        "plt.figure(figsize=(5, 5))\n",
        "sns.heatmap(rf_cm, annot=True, fmt='d', cmap='Blues', cbar=False)\n",
        "plt.title('Random Forest Confusion Matrix')\n",
        "plt.xlabel('Predicted')\n",
        "plt.ylabel('Actual')\n",
        "plt.show()"
      ],
      "metadata": {
        "colab": {
          "base_uri": "https://localhost:8080/",
          "height": 487
        },
        "id": "FwmCU_cs6uRs",
        "outputId": "c15aa575-6178-48de-9347-19cc6f5d1f4e"
      },
      "execution_count": 138,
      "outputs": [
        {
          "output_type": "display_data",
          "data": {
            "text/plain": [
              "<Figure size 500x500 with 1 Axes>"
            ],
            "image/png": "[encoded data removed]"
          },
          "metadata": {}
        }
      ]
    },
    {
      "cell_type": "markdown",
      "source": [
        "# ***Gradient Boosting***"
      ],
      "metadata": {
        "id": "MoQCtikg6w5R"
      }
    },
    {
      "cell_type": "code",
      "source": [
        "# Gradient Boosting\n",
        "gb = GradientBoostingClassifier(random_state=42)\n",
        "gb.fit(X_train, y_train)\n",
        "gb_predictions = gb.predict(X_test)\n",
        "\n",
        "# Print the results for Gradient Boosting\n",
        "gb_accuracy = accuracy_score(y_test, gb_predictions)\n",
        "gb_report = classification_report(y_test, gb_predictions)\n",
        "gb_cm = confusion_matrix(y_test, gb_predictions)\n",
        "\n",
        "print(\"Gradient Boosting Results:\")\n",
        "print(f\"Accuracy: {gb_accuracy}\")\n",
        "print(\"Classification Report:\")\n",
        "print(gb_report)\n",
        "print(\"Confusion Matrix:\")\n",
        "print(gb_cm)\n"
      ],
      "metadata": {
        "colab": {
          "base_uri": "https://localhost:8080/"
        },
        "id": "RtmKKvHN6zk0",
        "outputId": "93d35998-abe5-4f8c-eecf-fd31506b68f3"
      },
      "execution_count": 139,
      "outputs": [
        {
          "output_type": "stream",
          "name": "stdout",
          "text": [
            "Gradient Boosting Results:\n",
            "Accuracy: 0.8770491803278688\n",
            "Classification Report:\n",
            "              precision    recall  f1-score   support\n",
            "\n",
            "           0       0.95      0.89      0.92       102\n",
            "           1       0.86      0.81      0.84        47\n",
            "           2       0.82      0.89      0.85        95\n",
            "\n",
            "    accuracy                           0.88       244\n",
            "   macro avg       0.88      0.87      0.87       244\n",
            "weighted avg       0.88      0.88      0.88       244\n",
            "\n",
            "Confusion Matrix:\n",
            "[[91  1 10]\n",
            " [ 0 38  9]\n",
            " [ 5  5 85]]\n"
          ]
        }
      ]
    },
    {
      "cell_type": "code",
      "source": [
        "# Plot Confusion Matrix\n",
        "plt.figure(figsize=(5, 5))\n",
        "sns.heatmap(gb_cm, annot=True, fmt='d', cmap='Blues', cbar=False)\n",
        "plt.title('Gradient Boosting Confusion Matrix')\n",
        "plt.xlabel('Predicted')\n",
        "plt.ylabel('Actual')\n",
        "plt.show()"
      ],
      "metadata": {
        "colab": {
          "base_uri": "https://localhost:8080/",
          "height": 487
        },
        "id": "9I2w71kZ65AM",
        "outputId": "32240dd2-6952-4f91-edce-7cbfcc105b14"
      },
      "execution_count": 140,
      "outputs": [
        {
          "output_type": "display_data",
          "data": {
            "text/plain": [
              "<Figure size 500x500 with 1 Axes>"
            ],
            "image/png": "[encoded data removed]"
          },
          "metadata": {}
        }
      ]
    },
    {
      "cell_type": "markdown",
      "source": [
        "# ***AdaBoost***"
      ],
      "metadata": {
        "id": "zNOW1N5d68SU"
      }
    },
    {
      "cell_type": "code",
      "source": [
        "# AdaBoost\n",
        "adaboost = AdaBoostClassifier(random_state=42)\n",
        "adaboost.fit(X_train, y_train)\n",
        "adaboost_predictions = adaboost.predict(X_test)\n",
        "\n",
        "# Print the results for AdaBoost\n",
        "adaboost_accuracy = accuracy_score(y_test, adaboost_predictions)\n",
        "adaboost_report = classification_report(y_test, adaboost_predictions)\n",
        "adaboost_cm = confusion_matrix(y_test, adaboost_predictions)\n",
        "\n",
        "print(\"AdaBoost Results:\")\n",
        "print(f\"Accuracy: {adaboost_accuracy}\")\n",
        "print(\"Classification Report:\")\n",
        "print(adaboost_report)\n",
        "print(\"Confusion Matrix:\")\n",
        "print(adaboost_cm)"
      ],
      "metadata": {
        "colab": {
          "base_uri": "https://localhost:8080/"
        },
        "id": "c6iyyJ5Z7AcD",
        "outputId": "a2f1d857-df1b-4db1-97ae-d4398d2178fa"
      },
      "execution_count": 141,
      "outputs": [
        {
          "output_type": "stream",
          "name": "stdout",
          "text": [
            "AdaBoost Results:\n",
            "Accuracy: 0.7581967213114754\n",
            "Classification Report:\n",
            "              precision    recall  f1-score   support\n",
            "\n",
            "           0       0.81      0.85      0.83       102\n",
            "           1       0.71      0.83      0.76        47\n",
            "           2       0.72      0.62      0.67        95\n",
            "\n",
            "    accuracy                           0.76       244\n",
            "   macro avg       0.75      0.77      0.75       244\n",
            "weighted avg       0.76      0.76      0.75       244\n",
            "\n",
            "Confusion Matrix:\n",
            "[[87  0 15]\n",
            " [ 0 39  8]\n",
            " [20 16 59]]\n"
          ]
        }
      ]
    },
    {
      "cell_type": "code",
      "source": [
        "# Plot Confusion Matrix\n",
        "plt.figure(figsize=(5, 5))\n",
        "sns.heatmap(adaboost_cm, annot=True, fmt='d', cmap='Blues', cbar=False)\n",
        "plt.title('AdaBoost Confusion Matrix')\n",
        "plt.xlabel('Predicted')\n",
        "plt.ylabel('Actual')\n",
        "plt.show()"
      ],
      "metadata": {
        "colab": {
          "base_uri": "https://localhost:8080/",
          "height": 487
        },
        "id": "DBiXr-Kc7D7w",
        "outputId": "04a5c09e-83e1-43b4-a5f9-994c1745804d"
      },
      "execution_count": 142,
      "outputs": [
        {
          "output_type": "display_data",
          "data": {
            "text/plain": [
              "<Figure size 500x500 with 1 Axes>"
            ],
            "image/png": "[encoded data removed]"
          },
          "metadata": {}
        }
      ]
    },
    {
      "cell_type": "markdown",
      "source": [
        "# **Decision Tree**"
      ],
      "metadata": {
        "id": "7mGOBMwDyJ3G"
      }
    },
    {
      "cell_type": "code",
      "source": [
        "from sklearn.tree import DecisionTreeClassifier\n",
        "from sklearn.metrics import accuracy_score, classification_report, confusion_matrix\n",
        "import matplotlib.pyplot as plt\n",
        "# Decision Tree Classifier\n",
        "decision_tree_model = DecisionTreeClassifier()\n",
        "decision_tree_model.fit(X_train, y_train)\n",
        "y_pred_dt = decision_tree_model.predict(X_test)\n",
        "\n",
        "# Calculate the confusion matrix\n",
        "cm_dt = confusion_matrix(y_test, y_pred_dt)\n",
        "\n",
        "# Evaluate the model\n",
        "print(\"\\nDecision Tree Classifier:\")\n",
        "print(\"Accuracy:\", accuracy_score(y_test, y_pred_dt))\n",
        "print(\"\\nClassification Report:\")\n",
        "print(classification_report(y_test, y_pred_dt))\n",
        "\n",
        "\n",
        "# Plot Confusion Matrix\n",
        "plt.figure(figsize=(5, 5))\n",
        "sns.heatmap(cm_dt, annot=True, fmt='d', cmap='Blues', cbar=False)\n",
        "plt.title('Decision Tree Confusion Matrix')\n",
        "plt.xlabel('Predicted')\n",
        "plt.ylabel('Actual')\n",
        "plt.show()"
      ],
      "metadata": {
        "colab": {
          "base_uri": "https://localhost:8080/",
          "height": 747
        },
        "id": "oyhdtNVnqRPt",
        "outputId": "bccca0e6-063c-4422-a7c8-4a55178af3ae"
      },
      "execution_count": 143,
      "outputs": [
        {
          "output_type": "stream",
          "name": "stdout",
          "text": [
            "\n",
            "Decision Tree Classifier:\n",
            "Accuracy: 0.8237704918032787\n",
            "\n",
            "Classification Report:\n",
            "              precision    recall  f1-score   support\n",
            "\n",
            "           0       0.93      0.84      0.89       102\n",
            "           1       0.70      0.74      0.72        47\n",
            "           2       0.78      0.84      0.81        95\n",
            "\n",
            "    accuracy                           0.82       244\n",
            "   macro avg       0.81      0.81      0.81       244\n",
            "weighted avg       0.83      0.82      0.83       244\n",
            "\n"
          ]
        },
        {
          "output_type": "display_data",
          "data": {
            "text/plain": [
              "<Figure size 500x500 with 1 Axes>"
            ],
            "image/png": "[encoded data removed]"
          },
          "metadata": {}
        }
      ]
    },
    {
      "cell_type": "markdown",
      "source": [
        "# **Support Vector Classifier**"
      ],
      "metadata": {
        "id": "3mzJDKWTyPMS"
      }
    },
    {
      "cell_type": "code",
      "source": [
        "from sklearn.svm import SVC\n",
        "# Support Vector Classifier\n",
        "svc_clf = SVC(kernel='linear', random_state=42)\n",
        "svc_clf.fit(X_train, y_train)\n",
        "svc_pred = svc_clf.predict(X_test)\n",
        "svc_accuracy = accuracy_score(y_test, svc_pred)\n",
        "svc_report = classification_report(y_test, svc_pred)\n",
        "svc_cm = confusion_matrix(y_test, svc_pred)\n",
        "\n",
        "print(\"Support Vector Classifier Results:\")\n",
        "print(f\"Accuracy: {svc_accuracy}\")\n",
        "print(\"Classification Report:\")\n",
        "print(svc_report)\n",
        "\n",
        "\n"
      ],
      "metadata": {
        "colab": {
          "base_uri": "https://localhost:8080/"
        },
        "id": "RCULqwIDv32J",
        "outputId": "9f185369-a699-4fe7-bac2-33cd3154a317"
      },
      "execution_count": 144,
      "outputs": [
        {
          "output_type": "stream",
          "name": "stdout",
          "text": [
            "Support Vector Classifier Results:\n",
            "Accuracy: 0.7172131147540983\n",
            "Classification Report:\n",
            "              precision    recall  f1-score   support\n",
            "\n",
            "           0       0.89      0.81      0.85       102\n",
            "           1       1.00      0.15      0.26        47\n",
            "           2       0.59      0.89      0.71        95\n",
            "\n",
            "    accuracy                           0.72       244\n",
            "   macro avg       0.83      0.62      0.61       244\n",
            "weighted avg       0.80      0.72      0.68       244\n",
            "\n"
          ]
        }
      ]
    },
    {
      "cell_type": "code",
      "source": [
        "# Plot Confusion Matrix\n",
        "plt.figure(figsize=(5, 5))\n",
        "sns.heatmap(svc_cm, annot=True, fmt='d', cmap='Blues', cbar=False)\n",
        "plt.title('Support Vector Confusion Matrix')\n",
        "plt.xlabel('Predicted')\n",
        "plt.ylabel('Actual')\n",
        "plt.show()"
      ],
      "metadata": {
        "colab": {
          "base_uri": "https://localhost:8080/",
          "height": 487
        },
        "id": "OogWaTAgyCRB",
        "outputId": "669f06ef-d2d5-4f29-bd23-7f42925ec1e0"
      },
      "execution_count": 145,
      "outputs": [
        {
          "output_type": "display_data",
          "data": {
            "text/plain": [
              "<Figure size 500x500 with 1 Axes>"
            ],
            "image/png": "[encoded data removed]"
          },
          "metadata": {}
        }
      ]
    },
    {
      "cell_type": "markdown",
      "source": [
        "# **All Algorithm Comparision**"
      ],
      "metadata": {
        "id": "-4h5fNHA7Ush"
      }
    },
    {
      "cell_type": "code",
      "source": [
        "# Initialize the classifiers\n",
        "classifiers = [\n",
        "\n",
        "    RandomForestClassifier(random_state=42),\n",
        "    GradientBoostingClassifier(random_state=42),\n",
        "    AdaBoostClassifier(random_state=42),\n",
        "    DecisionTreeClassifier(random_state=42),\n",
        "    SVC(kernel='linear', random_state=42)\n",
        "\n",
        "]\n",
        "\n",
        "# Store classifier names and accuracies\n",
        "classifier_names = []\n",
        "accuracies = []"
      ],
      "metadata": {
        "id": "QjhRQVUC2Gkk"
      },
      "execution_count": 146,
      "outputs": []
    },
    {
      "cell_type": "code",
      "source": [
        "# Loop through each classifier\n",
        "for clf in classifiers:\n",
        "    # Fit the classifier on the training data\n",
        "    clf.fit(X_train, y_train)\n",
        "\n",
        "    # Predict on the test data\n",
        "    predictions = clf.predict(X_test)\n",
        "\n",
        "    # Calculate accuracy\n",
        "    acc = accuracy_score(y_test, predictions)\n",
        "\n",
        "    # Append to lists\n",
        "    classifier_names.append(type(clf).__name__)\n",
        "    accuracies.append(acc)\n",
        "\n",
        "    # Print results for each classifier\n",
        "    print(f\"{type(clf).__name__} Accuracy: {acc}\")\n",
        "    print(\"Classification Report:\")\n",
        "    print(classification_report(y_test, predictions))\n",
        "    print(\"Confusion Matrix:\")\n",
        "    print(confusion_matrix(y_test, predictions))\n",
        "    print(\"\\n\" + \"=\"*50 + \"\\n\")"
      ],
      "metadata": {
        "colab": {
          "base_uri": "https://localhost:8080/"
        },
        "id": "6kGYcty62hC6",
        "outputId": "359b946d-669e-4484-afb3-365d78a0c220"
      },
      "execution_count": 147,
      "outputs": [
        {
          "output_type": "stream",
          "name": "stdout",
          "text": [
            "RandomForestClassifier Accuracy: 0.9016393442622951\n",
            "Classification Report:\n",
            "              precision    recall  f1-score   support\n",
            "\n",
            "           0       0.95      0.90      0.92       102\n",
            "           1       0.91      0.89      0.90        47\n",
            "           2       0.85      0.91      0.88        95\n",
            "\n",
            "    accuracy                           0.90       244\n",
            "   macro avg       0.90      0.90      0.90       244\n",
            "weighted avg       0.90      0.90      0.90       244\n",
            "\n",
            "Confusion Matrix:\n",
            "[[92  0 10]\n",
            " [ 0 42  5]\n",
            " [ 5  4 86]]\n",
            "\n",
            "==================================================\n",
            "\n",
            "GradientBoostingClassifier Accuracy: 0.8770491803278688\n",
            "Classification Report:\n",
            "              precision    recall  f1-score   support\n",
            "\n",
            "           0       0.95      0.89      0.92       102\n",
            "           1       0.86      0.81      0.84        47\n",
            "           2       0.82      0.89      0.85        95\n",
            "\n",
            "    accuracy                           0.88       244\n",
            "   macro avg       0.88      0.87      0.87       244\n",
            "weighted avg       0.88      0.88      0.88       244\n",
            "\n",
            "Confusion Matrix:\n",
            "[[91  1 10]\n",
            " [ 0 38  9]\n",
            " [ 5  5 85]]\n",
            "\n",
            "==================================================\n",
            "\n",
            "AdaBoostClassifier Accuracy: 0.7581967213114754\n",
            "Classification Report:\n",
            "              precision    recall  f1-score   support\n",
            "\n",
            "           0       0.81      0.85      0.83       102\n",
            "           1       0.71      0.83      0.76        47\n",
            "           2       0.72      0.62      0.67        95\n",
            "\n",
            "    accuracy                           0.76       244\n",
            "   macro avg       0.75      0.77      0.75       244\n",
            "weighted avg       0.76      0.76      0.75       244\n",
            "\n",
            "Confusion Matrix:\n",
            "[[87  0 15]\n",
            " [ 0 39  8]\n",
            " [20 16 59]]\n",
            "\n",
            "==================================================\n",
            "\n",
            "DecisionTreeClassifier Accuracy: 0.8278688524590164\n",
            "Classification Report:\n",
            "              precision    recall  f1-score   support\n",
            "\n",
            "           0       0.92      0.83      0.88       102\n",
            "           1       0.72      0.81      0.76        47\n",
            "           2       0.80      0.83      0.81        95\n",
            "\n",
            "    accuracy                           0.83       244\n",
            "   macro avg       0.81      0.82      0.82       244\n",
            "weighted avg       0.84      0.83      0.83       244\n",
            "\n",
            "Confusion Matrix:\n",
            "[[85  6 11]\n",
            " [ 0 38  9]\n",
            " [ 7  9 79]]\n",
            "\n",
            "==================================================\n",
            "\n",
            "SVC Accuracy: 0.7172131147540983\n",
            "Classification Report:\n",
            "              precision    recall  f1-score   support\n",
            "\n",
            "           0       0.89      0.81      0.85       102\n",
            "           1       1.00      0.15      0.26        47\n",
            "           2       0.59      0.89      0.71        95\n",
            "\n",
            "    accuracy                           0.72       244\n",
            "   macro avg       0.83      0.62      0.61       244\n",
            "weighted avg       0.80      0.72      0.68       244\n",
            "\n",
            "Confusion Matrix:\n",
            "[[83  0 19]\n",
            " [ 0  7 40]\n",
            " [10  0 85]]\n",
            "\n",
            "==================================================\n",
            "\n"
          ]
        }
      ]
    },
    {
      "cell_type": "code",
      "source": [
        "import plotly.express as px\n",
        "\n",
        "# Create a DataFrame for accuracies\n",
        "df_accuracies = pd.DataFrame({'Classifier': classifier_names, 'Accuracy': accuracies})\n",
        "\n",
        "# Plot the accuracies using Plotly\n",
        "fig = px.bar(df_accuracies, x='Classifier', y='Accuracy', color='Accuracy',\n",
        "             labels={'Accuracy': 'Accuracy Score'},\n",
        "             title='Classifier Accuracy Comparison')\n",
        "\n",
        "# Add text annotations to the top of each bar\n",
        "for i, acc in enumerate(accuracies):\n",
        "    fig.add_annotation(x=classifier_names[i], y=acc, text=f'{acc:.2f}', showarrow=False, yshift=10)\n",
        "\n",
        "# Show the figure\n",
        "fig.show()\n"
      ],
      "metadata": {
        "colab": {
          "base_uri": "https://localhost:8080/",
          "height": 542
        },
        "id": "1Nf5bk1Vi-qB",
        "outputId": "30eb0291-5ebf-422c-f452-6e2f4057451d"
      },
      "execution_count": 148,
      "outputs": [
        {
          "output_type": "display_data",
          "data": {
            "text/html": [
              "<html>\n",
              "<head><meta charset=\"utf-8\" /></head>\n",
              "<body>\n",
              "    <div>            <script src=\"https://cdnjs.cloudflare.com/ajax/libs/mathjax/2.7.5/MathJax.js?config=TeX-AMS-MML_SVG\"></script><script type=\"text/javascript\">if (window.MathJax && window.MathJax.Hub && window.MathJax.Hub.Config) {window.MathJax.Hub.Config({SVG: {font: \"STIX-Web\"}});}</script>                <script type=\"text/javascript\">window.PlotlyConfig = {MathJaxConfig: 'local'};</script>\n",
              "        <script charset=\"utf-8\" src=\"https://cdn.plot.ly/plotly-2.24.1.min.js\"></script>                <div id=\"d85a3236-50b7-4bfb-aefd-e62562517bae\" class=\"plotly-graph-div\" style=\"height:525px; width:100%;\"></div>            <script type=\"text/javascript\">                                    window.PLOTLYENV=window.PLOTLYENV || {};                                    if (document.getElementById(\"d85a3236-50b7-4bfb-aefd-e62562517bae\")) {                    Plotly.newPlot(                        \"d85a3236-50b7-4bfb-aefd-e62562517bae\",                        [{\"alignmentgroup\":\"True\",\"hovertemplate\":\"Classifier=%{x}\\u003cbr\\u003eAccuracy Score=%{marker.color}\\u003cextra\\u003e\\u003c\\u002fextra\\u003e\",\"legendgroup\":\"\",\"marker\":{\"color\":[0.9016393442622951,0.8770491803278688,0.7581967213114754,0.8278688524590164,0.7172131147540983],\"coloraxis\":\"coloraxis\",\"pattern\":{\"shape\":\"\"}},\"name\":\"\",\"offsetgroup\":\"\",\"orientation\":\"v\",\"showlegend\":false,\"textposition\":\"auto\",\"x\":[\"RandomForestClassifier\",\"GradientBoostingClassifier\",\"AdaBoostClassifier\",\"DecisionTreeClassifier\",\"SVC\"],\"xaxis\":\"x\",\"y\":[0.9016393442622951,0.8770491803278688,0.7581967213114754,0.8278688524590164,0.7172131147540983],\"yaxis\":\"y\",\"type\":\"bar\"}],                        {\"template\":{\"data\":{\"histogram2dcontour\":[{\"type\":\"histogram2dcontour\",\"colorbar\":{\"outlinewidth\":0,\"ticks\":\"\"},\"colorscale\":[[0.0,\"#0d0887\"],[0.1111111111111111,\"#46039f\"],[0.2222222222222222,\"#7201a8\"],[0.3333333333333333,\"#9c179e\"],[0.4444444444444444,\"#bd3786\"],[0.5555555555555556,\"#d8576b\"],[0.6666666666666666,\"#ed7953\"],[0.7777777777777778,\"#fb9f3a\"],[0.8888888888888888,\"#fdca26\"],[1.0,\"#f0f921\"]]}],\"choropleth\":[{\"type\":\"choropleth\",\"colorbar\":{\"outlinewidth\":0,\"ticks\":\"\"}}],\"histogram2d\":[{\"type\":\"histogram2d\",\"colorbar\":{\"outlinewidth\":0,\"ticks\":\"\"},\"colorscale\":[[0.0,\"#0d0887\"],[0.1111111111111111,\"#46039f\"],[0.2222222222222222,\"#7201a8\"],[0.3333333333333333,\"#9c179e\"],[0.4444444444444444,\"#bd3786\"],[0.5555555555555556,\"#d8576b\"],[0.6666666666666666,\"#ed7953\"],[0.7777777777777778,\"#fb9f3a\"],[0.8888888888888888,\"#fdca26\"],[1.0,\"#f0f921\"]]}],\"heatmap\":[{\"type\":\"heatmap\",\"colorbar\":{\"outlinewidth\":0,\"ticks\":\"\"},\"colorscale\":[[0.0,\"#0d0887\"],[0.1111111111111111,\"#46039f\"],[0.2222222222222222,\"#7201a8\"],[0.3333333333333333,\"#9c179e\"],[0.4444444444444444,\"#bd3786\"],[0.5555555555555556,\"#d8576b\"],[0.6666666666666666,\"#ed7953\"],[0.7777777777777778,\"#fb9f3a\"],[0.8888888888888888,\"#fdca26\"],[1.0,\"#f0f921\"]]}],\"heatmapgl\":[{\"type\":\"heatmapgl\",\"colorbar\":{\"outlinewidth\":0,\"ticks\":\"\"},\"colorscale\":[[0.0,\"#0d0887\"],[0.1111111111111111,\"#46039f\"],[0.2222222222222222,\"#7201a8\"],[0.3333333333333333,\"#9c179e\"],[0.4444444444444444,\"#bd3786\"],[0.5555555555555556,\"#d8576b\"],[0.6666666666666666,\"#ed7953\"],[0.7777777777777778,\"#fb9f3a\"],[0.8888888888888888,\"#fdca26\"],[1.0,\"#f0f921\"]]}],\"contourcarpet\":[{\"type\":\"contourcarpet\",\"colorbar\":{\"outlinewidth\":0,\"ticks\":\"\"}}],\"contour\":[{\"type\":\"contour\",\"colorbar\":{\"outlinewidth\":0,\"ticks\":\"\"},\"colorscale\":[[0.0,\"#0d0887\"],[0.1111111111111111,\"#46039f\"],[0.2222222222222222,\"#7201a8\"],[0.3333333333333333,\"#9c179e\"],[0.4444444444444444,\"#bd3786\"],[0.5555555555555556,\"#d8576b\"],[0.6666666666666666,\"#ed7953\"],[0.7777777777777778,\"#fb9f3a\"],[0.8888888888888888,\"#fdca26\"],[1.0,\"#f0f921\"]]}],\"surface\":[{\"type\":\"surface\",\"colorbar\":{\"outlinewidth\":0,\"ticks\":\"\"},\"colorscale\":[[0.0,\"#0d0887\"],[0.1111111111111111,\"#46039f\"],[0.2222222222222222,\"#7201a8\"],[0.3333333333333333,\"#9c179e\"],[0.4444444444444444,\"#bd3786\"],[0.5555555555555556,\"#d8576b\"],[0.6666666666666666,\"#ed7953\"],[0.7777777777777778,\"#fb9f3a\"],[0.8888888888888888,\"#fdca26\"],[1.0,\"#f0f921\"]]}],\"mesh3d\":[{\"type\":\"mesh3d\",\"colorbar\":{\"outlinewidth\":0,\"ticks\":\"\"}}],\"scatter\":[{\"fillpattern\":{\"fillmode\":\"overlay\",\"size\":10,\"solidity\":0.2},\"type\":\"scatter\"}],\"parcoords\":[{\"type\":\"parcoords\",\"line\":{\"colorbar\":{\"outlinewidth\":0,\"ticks\":\"\"}}}],\"scatterpolargl\":[{\"type\":\"scatterpolargl\",\"marker\":{\"colorbar\":{\"outlinewidth\":0,\"ticks\":\"\"}}}],\"bar\":[{\"error_x\":{\"color\":\"#2a3f5f\"},\"error_y\":{\"color\":\"#2a3f5f\"},\"marker\":{\"line\":{\"color\":\"#E5ECF6\",\"width\":0.5},\"pattern\":{\"fillmode\":\"overlay\",\"size\":10,\"solidity\":0.2}},\"type\":\"bar\"}],\"scattergeo\":[{\"type\":\"scattergeo\",\"marker\":{\"colorbar\":{\"outlinewidth\":0,\"ticks\":\"\"}}}],\"scatterpolar\":[{\"type\":\"scatterpolar\",\"marker\":{\"colorbar\":{\"outlinewidth\":0,\"ticks\":\"\"}}}],\"histogram\":[{\"marker\":{\"pattern\":{\"fillmode\":\"overlay\",\"size\":10,\"solidity\":0.2}},\"type\":\"histogram\"}],\"scattergl\":[{\"type\":\"scattergl\",\"marker\":{\"colorbar\":{\"outlinewidth\":0,\"ticks\":\"\"}}}],\"scatter3d\":[{\"type\":\"scatter3d\",\"line\":{\"colorbar\":{\"outlinewidth\":0,\"ticks\":\"\"}},\"marker\":{\"colorbar\":{\"outlinewidth\":0,\"ticks\":\"\"}}}],\"scattermapbox\":[{\"type\":\"scattermapbox\",\"marker\":{\"colorbar\":{\"outlinewidth\":0,\"ticks\":\"\"}}}],\"scatterternary\":[{\"type\":\"scatterternary\",\"marker\":{\"colorbar\":{\"outlinewidth\":0,\"ticks\":\"\"}}}],\"scattercarpet\":[{\"type\":\"scattercarpet\",\"marker\":{\"colorbar\":{\"outlinewidth\":0,\"ticks\":\"\"}}}],\"carpet\":[{\"aaxis\":{\"endlinecolor\":\"#2a3f5f\",\"gridcolor\":\"white\",\"linecolor\":\"white\",\"minorgridcolor\":\"white\",\"startlinecolor\":\"#2a3f5f\"},\"baxis\":{\"endlinecolor\":\"#2a3f5f\",\"gridcolor\":\"white\",\"linecolor\":\"white\",\"minorgridcolor\":\"white\",\"startlinecolor\":\"#2a3f5f\"},\"type\":\"carpet\"}],\"table\":[{\"cells\":{\"fill\":{\"color\":\"#EBF0F8\"},\"line\":{\"color\":\"white\"}},\"header\":{\"fill\":{\"color\":\"#C8D4E3\"},\"line\":{\"color\":\"white\"}},\"type\":\"table\"}],\"barpolar\":[{\"marker\":{\"line\":{\"color\":\"#E5ECF6\",\"width\":0.5},\"pattern\":{\"fillmode\":\"overlay\",\"size\":10,\"solidity\":0.2}},\"type\":\"barpolar\"}],\"pie\":[{\"automargin\":true,\"type\":\"pie\"}]},\"layout\":{\"autotypenumbers\":\"strict\",\"colorway\":[\"#636efa\",\"#EF553B\",\"#00cc96\",\"#ab63fa\",\"#FFA15A\",\"#19d3f3\",\"#FF6692\",\"#B6E880\",\"#FF97FF\",\"#FECB52\"],\"font\":{\"color\":\"#2a3f5f\"},\"hovermode\":\"closest\",\"hoverlabel\":{\"align\":\"left\"},\"paper_bgcolor\":\"white\",\"plot_bgcolor\":\"#E5ECF6\",\"polar\":{\"bgcolor\":\"#E5ECF6\",\"angularaxis\":{\"gridcolor\":\"white\",\"linecolor\":\"white\",\"ticks\":\"\"},\"radialaxis\":{\"gridcolor\":\"white\",\"linecolor\":\"white\",\"ticks\":\"\"}},\"ternary\":{\"bgcolor\":\"#E5ECF6\",\"aaxis\":{\"gridcolor\":\"white\",\"linecolor\":\"white\",\"ticks\":\"\"},\"baxis\":{\"gridcolor\":\"white\",\"linecolor\":\"white\",\"ticks\":\"\"},\"caxis\":{\"gridcolor\":\"white\",\"linecolor\":\"white\",\"ticks\":\"\"}},\"coloraxis\":{\"colorbar\":{\"outlinewidth\":0,\"ticks\":\"\"}},\"colorscale\":{\"sequential\":[[0.0,\"#0d0887\"],[0.1111111111111111,\"#46039f\"],[0.2222222222222222,\"#7201a8\"],[0.3333333333333333,\"#9c179e\"],[0.4444444444444444,\"#bd3786\"],[0.5555555555555556,\"#d8576b\"],[0.6666666666666666,\"#ed7953\"],[0.7777777777777778,\"#fb9f3a\"],[0.8888888888888888,\"#fdca26\"],[1.0,\"#f0f921\"]],\"sequentialminus\":[[0.0,\"#0d0887\"],[0.1111111111111111,\"#46039f\"],[0.2222222222222222,\"#7201a8\"],[0.3333333333333333,\"#9c179e\"],[0.4444444444444444,\"#bd3786\"],[0.5555555555555556,\"#d8576b\"],[0.6666666666666666,\"#ed7953\"],[0.7777777777777778,\"#fb9f3a\"],[0.8888888888888888,\"#fdca26\"],[1.0,\"#f0f921\"]],\"diverging\":[[0,\"#8e0152\"],[0.1,\"#c51b7d\"],[0.2,\"#de77ae\"],[0.3,\"#f1b6da\"],[0.4,\"#fde0ef\"],[0.5,\"#f7f7f7\"],[0.6,\"#e6f5d0\"],[0.7,\"#b8e186\"],[0.8,\"#7fbc41\"],[0.9,\"#4d9221\"],[1,\"#276419\"]]},\"xaxis\":{\"gridcolor\":\"white\",\"linecolor\":\"white\",\"ticks\":\"\",\"title\":{\"standoff\":15},\"zerolinecolor\":\"white\",\"automargin\":true,\"zerolinewidth\":2},\"yaxis\":{\"gridcolor\":\"white\",\"linecolor\":\"white\",\"ticks\":\"\",\"title\":{\"standoff\":15},\"zerolinecolor\":\"white\",\"automargin\":true,\"zerolinewidth\":2},\"scene\":{\"xaxis\":{\"backgroundcolor\":\"#E5ECF6\",\"gridcolor\":\"white\",\"linecolor\":\"white\",\"showbackground\":true,\"ticks\":\"\",\"zerolinecolor\":\"white\",\"gridwidth\":2},\"yaxis\":{\"backgroundcolor\":\"#E5ECF6\",\"gridcolor\":\"white\",\"linecolor\":\"white\",\"showbackground\":true,\"ticks\":\"\",\"zerolinecolor\":\"white\",\"gridwidth\":2},\"zaxis\":{\"backgroundcolor\":\"#E5ECF6\",\"gridcolor\":\"white\",\"linecolor\":\"white\",\"showbackground\":true,\"ticks\":\"\",\"zerolinecolor\":\"white\",\"gridwidth\":2}},\"shapedefaults\":{\"line\":{\"color\":\"#2a3f5f\"}},\"annotationdefaults\":{\"arrowcolor\":\"#2a3f5f\",\"arrowhead\":0,\"arrowwidth\":1},\"geo\":{\"bgcolor\":\"white\",\"landcolor\":\"#E5ECF6\",\"subunitcolor\":\"white\",\"showland\":true,\"showlakes\":true,\"lakecolor\":\"white\"},\"title\":{\"x\":0.05},\"mapbox\":{\"style\":\"light\"}}},\"xaxis\":{\"anchor\":\"y\",\"domain\":[0.0,1.0],\"title\":{\"text\":\"Classifier\"}},\"yaxis\":{\"anchor\":\"x\",\"domain\":[0.0,1.0],\"title\":{\"text\":\"Accuracy Score\"}},\"coloraxis\":{\"colorbar\":{\"title\":{\"text\":\"Accuracy Score\"}},\"colorscale\":[[0.0,\"#0d0887\"],[0.1111111111111111,\"#46039f\"],[0.2222222222222222,\"#7201a8\"],[0.3333333333333333,\"#9c179e\"],[0.4444444444444444,\"#bd3786\"],[0.5555555555555556,\"#d8576b\"],[0.6666666666666666,\"#ed7953\"],[0.7777777777777778,\"#fb9f3a\"],[0.8888888888888888,\"#fdca26\"],[1.0,\"#f0f921\"]]},\"legend\":{\"tracegroupgap\":0},\"title\":{\"text\":\"Classifier Accuracy Comparison\"},\"barmode\":\"relative\",\"annotations\":[{\"showarrow\":false,\"text\":\"0.90\",\"x\":\"RandomForestClassifier\",\"y\":0.9016393442622951,\"yshift\":10},{\"showarrow\":false,\"text\":\"0.88\",\"x\":\"GradientBoostingClassifier\",\"y\":0.8770491803278688,\"yshift\":10},{\"showarrow\":false,\"text\":\"0.76\",\"x\":\"AdaBoostClassifier\",\"y\":0.7581967213114754,\"yshift\":10},{\"showarrow\":false,\"text\":\"0.83\",\"x\":\"DecisionTreeClassifier\",\"y\":0.8278688524590164,\"yshift\":10},{\"showarrow\":false,\"text\":\"0.72\",\"x\":\"SVC\",\"y\":0.7172131147540983,\"yshift\":10}]},                        {\"responsive\": true}                    ).then(function(){\n",
              "                            \n",
              "var gd = document.getElementById('d85a3236-50b7-4bfb-aefd-e62562517bae');\n",
              "var x = new MutationObserver(function (mutations, observer) {{\n",
              "        var display = window.getComputedStyle(gd).display;\n",
              "        if (!display || display === 'none') {{\n",
              "            console.log([gd, 'removed!']);\n",
              "            Plotly.purge(gd);\n",
              "            observer.disconnect();\n",
              "        }}\n",
              "}});\n",
              "\n",
              "// Listen for the removal of the full notebook cells\n",
              "var notebookContainer = gd.closest('#notebook-container');\n",
              "if (notebookContainer) {{\n",
              "    x.observe(notebookContainer, {childList: true});\n",
              "}}\n",
              "\n",
              "// Listen for the clearing of the current output cell\n",
              "var outputEl = gd.closest('.output');\n",
              "if (outputEl) {{\n",
              "    x.observe(outputEl, {childList: true});\n",
              "}}\n",
              "\n",
              "                        })                };                            </script>        </div>\n",
              "</body>\n",
              "</html>"
            ]
          },
          "metadata": {}
        }
      ]
    },
    {
      "cell_type": "markdown",
      "source": [
        "# **User Input**"
      ],
      "metadata": {
        "id": "x7sG-RiP3tx8"
      }
    },
    {
      "cell_type": "code",
      "source": [
        "# Display the updated DataFrame\n",
        "car.head()"
      ],
      "metadata": {
        "colab": {
          "base_uri": "https://localhost:8080/",
          "height": 206
        },
        "id": "x2h2Notw383w",
        "outputId": "0dc3845c-eead-487e-c90e-ecb3b53e1aa0"
      },
      "execution_count": 149,
      "outputs": [
        {
          "output_type": "execute_result",
          "data": {
            "text/plain": [
              "   Car_Name  Year  Selling_Price  Present_Price  Driven_kms  Fuel_Type  \\\n",
              "0       325  2005           22.5             60       70000          3   \n",
              "1        23  2014           19.2             45       57000          2   \n",
              "2       243  2014           12.0             25       45000          3   \n",
              "3       233  2007           15.2             25        7879          3   \n",
              "4       243  2014           14.3             30       55000          3   \n",
              "\n",
              "   Selling_type  Transmission  Owner  Price_Category  \n",
              "0             1             0      1               0  \n",
              "1             1             0      1               2  \n",
              "2             1             0      1               2  \n",
              "3             1             0      1               2  \n",
              "4             1             0      1               2  "
            ],
            "text/html": [
              "\n",
              "  <div id=\"df-e7b7443f-6714-4f07-adc0-bb2fbdd5af27\" class=\"colab-df-container\">\n",
              "    <div>\n",
              "<style scoped>\n",
              "    .dataframe tbody tr th:only-of-type {\n",
              "        vertical-align: middle;\n",
              "    }\n",
              "\n",
              "    .dataframe tbody tr th {\n",
              "        vertical-align: top;\n",
              "    }\n",
              "\n",
              "    .dataframe thead th {\n",
              "        text-align: right;\n",
              "    }\n",
              "</style>\n",
              "<table border=\"1\" class=\"dataframe\">\n",
              "  <thead>\n",
              "    <tr style=\"text-align: right;\">\n",
              "      <th></th>\n",
              "      <th>Car_Name</th>\n",
              "      <th>Year</th>\n",
              "      <th>Selling_Price</th>\n",
              "      <th>Present_Price</th>\n",
              "      <th>Driven_kms</th>\n",
              "      <th>Fuel_Type</th>\n",
              "      <th>Selling_type</th>\n",
              "      <th>Transmission</th>\n",
              "      <th>Owner</th>\n",
              "      <th>Price_Category</th>\n",
              "    </tr>\n",
              "  </thead>\n",
              "  <tbody>\n",
              "    <tr>\n",
              "      <th>0</th>\n",
              "      <td>325</td>\n",
              "      <td>2005</td>\n",
              "      <td>22.5</td>\n",
              "      <td>60</td>\n",
              "      <td>70000</td>\n",
              "      <td>3</td>\n",
              "      <td>1</td>\n",
              "      <td>0</td>\n",
              "      <td>1</td>\n",
              "      <td>0</td>\n",
              "    </tr>\n",
              "    <tr>\n",
              "      <th>1</th>\n",
              "      <td>23</td>\n",
              "      <td>2014</td>\n",
              "      <td>19.2</td>\n",
              "      <td>45</td>\n",
              "      <td>57000</td>\n",
              "      <td>2</td>\n",
              "      <td>1</td>\n",
              "      <td>0</td>\n",
              "      <td>1</td>\n",
              "      <td>2</td>\n",
              "    </tr>\n",
              "    <tr>\n",
              "      <th>2</th>\n",
              "      <td>243</td>\n",
              "      <td>2014</td>\n",
              "      <td>12.0</td>\n",
              "      <td>25</td>\n",
              "      <td>45000</td>\n",
              "      <td>3</td>\n",
              "      <td>1</td>\n",
              "      <td>0</td>\n",
              "      <td>1</td>\n",
              "      <td>2</td>\n",
              "    </tr>\n",
              "    <tr>\n",
              "      <th>3</th>\n",
              "      <td>233</td>\n",
              "      <td>2007</td>\n",
              "      <td>15.2</td>\n",
              "      <td>25</td>\n",
              "      <td>7879</td>\n",
              "      <td>3</td>\n",
              "      <td>1</td>\n",
              "      <td>0</td>\n",
              "      <td>1</td>\n",
              "      <td>2</td>\n",
              "    </tr>\n",
              "    <tr>\n",
              "      <th>4</th>\n",
              "      <td>243</td>\n",
              "      <td>2014</td>\n",
              "      <td>14.3</td>\n",
              "      <td>30</td>\n",
              "      <td>55000</td>\n",
              "      <td>3</td>\n",
              "      <td>1</td>\n",
              "      <td>0</td>\n",
              "      <td>1</td>\n",
              "      <td>2</td>\n",
              "    </tr>\n",
              "  </tbody>\n",
              "</table>\n",
              "</div>\n",
              "    <div class=\"colab-df-buttons\">\n",
              "\n",
              "  <div class=\"colab-df-container\">\n",
              "    <button class=\"colab-df-convert\" onclick=\"convertToInteractive('df-e7b7443f-6714-4f07-adc0-bb2fbdd5af27')\"\n",
              "            title=\"Convert this dataframe to an interactive table.\"\n",
              "            style=\"display:none;\">\n",
              "\n",
              "  <svg xmlns=\"http://www.w3.org/2000/svg\" height=\"24px\" viewBox=\"0 -960 960 960\">\n",
              "    <path d=\"M120-120v-720h720v720H120Zm60-500h600v-160H180v160Zm220 220h160v-160H400v160Zm0 220h160v-160H400v160ZM180-400h160v-160H180v160Zm440 0h160v-160H620v160ZM180-180h160v-160H180v160Zm440 0h160v-160H620v160Z\"/>\n",
              "  </svg>\n",
              "    </button>\n",
              "\n",
              "  <style>\n",
              "    .colab-df-container {\n",
              "      display:flex;\n",
              "      gap: 12px;\n",
              "    }\n",
              "\n",
              "    .colab-df-convert {\n",
              "      background-color: #E8F0FE;\n",
              "      border: none;\n",
              "      border-radius: 50%;\n",
              "      cursor: pointer;\n",
              "      display: none;\n",
              "      fill: #1967D2;\n",
              "      height: 32px;\n",
              "      padding: 0 0 0 0;\n",
              "      width: 32px;\n",
              "    }\n",
              "\n",
              "    .colab-df-convert:hover {\n",
              "      background-color: #E2EBFA;\n",
              "      box-shadow: 0px 1px 2px rgba(60, 64, 67, 0.3), 0px 1px 3px 1px rgba(60, 64, 67, 0.15);\n",
              "      fill: #174EA6;\n",
              "    }\n",
              "\n",
              "    .colab-df-buttons div {\n",
              "      margin-bottom: 4px;\n",
              "    }\n",
              "\n",
              "    [theme=dark] .colab-df-convert {\n",
              "      background-color: #3B4455;\n",
              "      fill: #D2E3FC;\n",
              "    }\n",
              "\n",
              "    [theme=dark] .colab-df-convert:hover {\n",
              "      background-color: #434B5C;\n",
              "      box-shadow: 0px 1px 3px 1px rgba(0, 0, 0, 0.15);\n",
              "      filter: drop-shadow(0px 1px 2px rgba(0, 0, 0, 0.3));\n",
              "      fill: #FFFFFF;\n",
              "    }\n",
              "  </style>\n",
              "\n",
              "    <script>\n",
              "      const buttonEl =\n",
              "        document.querySelector('#df-e7b7443f-6714-4f07-adc0-bb2fbdd5af27 button.colab-df-convert');\n",
              "      buttonEl.style.display =\n",
              "        google.colab.kernel.accessAllowed ? 'block' : 'none';\n",
              "\n",
              "      async function convertToInteractive(key) {\n",
              "        const element = document.querySelector('#df-e7b7443f-6714-4f07-adc0-bb2fbdd5af27');\n",
              "        const dataTable =\n",
              "          await google.colab.kernel.invokeFunction('convertToInteractive',\n",
              "                                                    [key], {});\n",
              "        if (!dataTable) return;\n",
              "\n",
              "        const docLinkHtml = 'Like what you see? Visit the ' +\n",
              "          '<a target=\"_blank\" href=https://colab.research.google.com/notebooks/data_table.ipynb>data table notebook</a>'\n",
              "          + ' to learn more about interactive tables.';\n",
              "        element.innerHTML = '';\n",
              "        dataTable['output_type'] = 'display_data';\n",
              "        await google.colab.output.renderOutput(dataTable, element);\n",
              "        const docLink = document.createElement('div');\n",
              "        docLink.innerHTML = docLinkHtml;\n",
              "        element.appendChild(docLink);\n",
              "      }\n",
              "    </script>\n",
              "  </div>\n",
              "\n",
              "\n",
              "<div id=\"df-ba165271-7647-4b00-87d9-32d172375975\">\n",
              "  <button class=\"colab-df-quickchart\" onclick=\"quickchart('df-ba165271-7647-4b00-87d9-32d172375975')\"\n",
              "            title=\"Suggest charts\"\n",
              "            style=\"display:none;\">\n",
              "\n",
              "<svg xmlns=\"http://www.w3.org/2000/svg\" height=\"24px\"viewBox=\"0 0 24 24\"\n",
              "     width=\"24px\">\n",
              "    <g>\n",
              "        <path d=\"M19 3H5c-1.1 0-2 .9-2 2v14c0 1.1.9 2 2 2h14c1.1 0 2-.9 2-2V5c0-1.1-.9-2-2-2zM9 17H7v-7h2v7zm4 0h-2V7h2v10zm4 0h-2v-4h2v4z\"/>\n",
              "    </g>\n",
              "</svg>\n",
              "  </button>\n",
              "\n",
              "<style>\n",
              "  .colab-df-quickchart {\n",
              "      --bg-color: #E8F0FE;\n",
              "      --fill-color: #1967D2;\n",
              "      --hover-bg-color: #E2EBFA;\n",
              "      --hover-fill-color: #174EA6;\n",
              "      --disabled-fill-color: #AAA;\n",
              "      --disabled-bg-color: #DDD;\n",
              "  }\n",
              "\n",
              "  [theme=dark] .colab-df-quickchart {\n",
              "      --bg-color: #3B4455;\n",
              "      --fill-color: #D2E3FC;\n",
              "      --hover-bg-color: #434B5C;\n",
              "      --hover-fill-color: #FFFFFF;\n",
              "      --disabled-bg-color: #3B4455;\n",
              "      --disabled-fill-color: #666;\n",
              "  }\n",
              "\n",
              "  .colab-df-quickchart {\n",
              "    background-color: var(--bg-color);\n",
              "    border: none;\n",
              "    border-radius: 50%;\n",
              "    cursor: pointer;\n",
              "    display: none;\n",
              "    fill: var(--fill-color);\n",
              "    height: 32px;\n",
              "    padding: 0;\n",
              "    width: 32px;\n",
              "  }\n",
              "\n",
              "  .colab-df-quickchart:hover {\n",
              "    background-color: var(--hover-bg-color);\n",
              "    box-shadow: 0 1px 2px rgba(60, 64, 67, 0.3), 0 1px 3px 1px rgba(60, 64, 67, 0.15);\n",
              "    fill: var(--button-hover-fill-color);\n",
              "  }\n",
              "\n",
              "  .colab-df-quickchart-complete:disabled,\n",
              "  .colab-df-quickchart-complete:disabled:hover {\n",
              "    background-color: var(--disabled-bg-color);\n",
              "    fill: var(--disabled-fill-color);\n",
              "    box-shadow: none;\n",
              "  }\n",
              "\n",
              "  .colab-df-spinner {\n",
              "    border: 2px solid var(--fill-color);\n",
              "    border-color: transparent;\n",
              "    border-bottom-color: var(--fill-color);\n",
              "    animation:\n",
              "      spin 1s steps(1) infinite;\n",
              "  }\n",
              "\n",
              "  @keyframes spin {\n",
              "    0% {\n",
              "      border-color: transparent;\n",
              "      border-bottom-color: var(--fill-color);\n",
              "      border-left-color: var(--fill-color);\n",
              "    }\n",
              "    20% {\n",
              "      border-color: transparent;\n",
              "      border-left-color: var(--fill-color);\n",
              "      border-top-color: var(--fill-color);\n",
              "    }\n",
              "    30% {\n",
              "      border-color: transparent;\n",
              "      border-left-color: var(--fill-color);\n",
              "      border-top-color: var(--fill-color);\n",
              "      border-right-color: var(--fill-color);\n",
              "    }\n",
              "    40% {\n",
              "      border-color: transparent;\n",
              "      border-right-color: var(--fill-color);\n",
              "      border-top-color: var(--fill-color);\n",
              "    }\n",
              "    60% {\n",
              "      border-color: transparent;\n",
              "      border-right-color: var(--fill-color);\n",
              "    }\n",
              "    80% {\n",
              "      border-color: transparent;\n",
              "      border-right-color: var(--fill-color);\n",
              "      border-bottom-color: var(--fill-color);\n",
              "    }\n",
              "    90% {\n",
              "      border-color: transparent;\n",
              "      border-bottom-color: var(--fill-color);\n",
              "    }\n",
              "  }\n",
              "</style>\n",
              "\n",
              "  <script>\n",
              "    async function quickchart(key) {\n",
              "      const quickchartButtonEl =\n",
              "        document.querySelector('#' + key + ' button');\n",
              "      quickchartButtonEl.disabled = true;  // To prevent multiple clicks.\n",
              "      quickchartButtonEl.classList.add('colab-df-spinner');\n",
              "      try {\n",
              "        const charts = await google.colab.kernel.invokeFunction(\n",
              "            'suggestCharts', [key], {});\n",
              "      } catch (error) {\n",
              "        console.error('Error during call to suggestCharts:', error);\n",
              "      }\n",
              "      quickchartButtonEl.classList.remove('colab-df-spinner');\n",
              "      quickchartButtonEl.classList.add('colab-df-quickchart-complete');\n",
              "    }\n",
              "    (() => {\n",
              "      let quickchartButtonEl =\n",
              "        document.querySelector('#df-ba165271-7647-4b00-87d9-32d172375975 button');\n",
              "      quickchartButtonEl.style.display =\n",
              "        google.colab.kernel.accessAllowed ? 'block' : 'none';\n",
              "    })();\n",
              "  </script>\n",
              "</div>\n",
              "    </div>\n",
              "  </div>\n"
            ]
          },
          "metadata": {},
          "execution_count": 149
        }
      ]
    },
    {
      "cell_type": "code",
      "source": [
        "# User input section for predicting car selling price\n",
        "user_data = {\n",
        "    'Car_Name': [23],                   # Example Car_Name (replace with an appropriate numeric value)\n",
        "    'Year': [2008],                     # Example Year (replace with an appropriate numeric value)\n",
        "    'Present_Price': [30.0],            # Example Present_Price (replace with an appropriate numeric value)\n",
        "    'Driven_kms': [50000],              # Example Driven_kms (replace with an appropriate numeric value)\n",
        "    'Fuel_Type': [2],                    # Example Fuel_Type (replace with an appropriate numeric value)\n",
        "    'Selling_type': [0],                 # Example Selling_type (replace with an appropriate numeric value)\n",
        "    'Transmission': [1],                # Example Transmission (replace with an appropriate numeric value)\n",
        "    'Owner': [1]   # Example owner (encoded value)\n",
        "}\n",
        "\n"
      ],
      "metadata": {
        "id": "iS9sFpqzkW1K"
      },
      "execution_count": 150,
      "outputs": []
    },
    {
      "cell_type": "code",
      "source": [
        "# Fit label encoder on the entire target variable (y)\n",
        "label_encoder = LabelEncoder()\n",
        "y_encoded = label_encoder.fit_transform(y)\n",
        "\n",
        "# Convert the user input to a DataFrame\n",
        "user_data_df = pd.DataFrame(user_data)\n",
        "\n",
        "# Fit each model on the entire dataset\n",
        "for model in classifiers:\n",
        "    model.fit(X, y_encoded)\n",
        "\n",
        "# Predict car selling price using each model\n",
        "for i, model in enumerate(classifiers):\n",
        "    predicted_category = model.predict(user_data_df)[0]\n",
        "    predicted_price_category = label_encoder.inverse_transform([predicted_category])[0]\n",
        "\n",
        "    print(f\"\\nPrediction using {classifier_names[i]}:\")\n",
        "    print(f\"Predicted Price Category: {predicted_price_category}\")\n",
        "\n",
        "# End of the program"
      ],
      "metadata": {
        "colab": {
          "base_uri": "https://localhost:8080/"
        },
        "id": "YHcjoOMQkaUL",
        "outputId": "efb327c4-eb0c-4c84-af9d-ca9c522165ff"
      },
      "execution_count": 151,
      "outputs": [
        {
          "output_type": "stream",
          "name": "stdout",
          "text": [
            "\n",
            "Prediction using RandomForestClassifier:\n",
            "Predicted Price Category: 2\n",
            "\n",
            "Prediction using GradientBoostingClassifier:\n",
            "Predicted Price Category: 2\n",
            "\n",
            "Prediction using AdaBoostClassifier:\n",
            "Predicted Price Category: 2\n",
            "\n",
            "Prediction using DecisionTreeClassifier:\n",
            "Predicted Price Category: 2\n",
            "\n",
            "Prediction using SVC:\n",
            "Predicted Price Category: 0\n"
          ]
        }
      ]
    },
    {
      "cell_type": "code",
      "source": [],
      "metadata": {
        "id": "BEOUEElE3Ohe"
      },
      "execution_count": 58,
      "outputs": []
    },
    {
      "cell_type": "code",
      "source": [],
      "metadata": {
        "id": "mfrkgS5B3Odv"
      },
      "execution_count": 58,
      "outputs": []
    }
  ]
}